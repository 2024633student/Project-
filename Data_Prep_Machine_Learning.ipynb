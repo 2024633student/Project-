{
 "cells": [
  {
   "cell_type": "markdown",
   "metadata": {},
   "source": [
    "# Data preparation and Visualization "
   ]
  },
  {
   "cell_type": "code",
   "execution_count": 21,
   "metadata": {},
   "outputs": [],
   "source": [
    "import pandas as pd\n",
    "import numpy as np\n",
    "import seaborn as sns\n",
    "import matplotlib.pyplot as plt"
   ]
  },
  {
   "cell_type": "code",
   "execution_count": 22,
   "metadata": {},
   "outputs": [],
   "source": [
    "dataset = pd.read_csv('./Irish_Tourism.csv')"
   ]
  },
  {
   "cell_type": "code",
   "execution_count": 23,
   "metadata": {},
   "outputs": [
    {
     "data": {
      "text/html": [
       "<div>\n",
       "<style scoped>\n",
       "    .dataframe tbody tr th:only-of-type {\n",
       "        vertical-align: middle;\n",
       "    }\n",
       "\n",
       "    .dataframe tbody tr th {\n",
       "        vertical-align: top;\n",
       "    }\n",
       "\n",
       "    .dataframe thead th {\n",
       "        text-align: right;\n",
       "    }\n",
       "</style>\n",
       "<table border=\"1\" class=\"dataframe\">\n",
       "  <thead>\n",
       "    <tr style=\"text-align: right;\">\n",
       "      <th></th>\n",
       "      <th>Statistic Label</th>\n",
       "      <th>Quarter</th>\n",
       "      <th>Domestic</th>\n",
       "      <th>Reason for Journey</th>\n",
       "      <th>UNIT</th>\n",
       "      <th>VALUE</th>\n",
       "    </tr>\n",
       "  </thead>\n",
       "  <tbody>\n",
       "    <tr>\n",
       "      <th>0</th>\n",
       "      <td>Number of Trips by Irish Residents</td>\n",
       "      <td>2000Q1</td>\n",
       "      <td>Domestic</td>\n",
       "      <td>All reasons for journey</td>\n",
       "      <td>Thousand</td>\n",
       "      <td>1169.0</td>\n",
       "    </tr>\n",
       "    <tr>\n",
       "      <th>1</th>\n",
       "      <td>Number of Trips by Irish Residents</td>\n",
       "      <td>2000Q1</td>\n",
       "      <td>Domestic</td>\n",
       "      <td>Holiday</td>\n",
       "      <td>Thousand</td>\n",
       "      <td>408.0</td>\n",
       "    </tr>\n",
       "    <tr>\n",
       "      <th>2</th>\n",
       "      <td>Number of Trips by Irish Residents</td>\n",
       "      <td>2000Q1</td>\n",
       "      <td>Domestic</td>\n",
       "      <td>Business</td>\n",
       "      <td>Thousand</td>\n",
       "      <td>161.0</td>\n",
       "    </tr>\n",
       "    <tr>\n",
       "      <th>3</th>\n",
       "      <td>Number of Trips by Irish Residents</td>\n",
       "      <td>2000Q1</td>\n",
       "      <td>Domestic</td>\n",
       "      <td>Visiting friends/relatives</td>\n",
       "      <td>Thousand</td>\n",
       "      <td>468.0</td>\n",
       "    </tr>\n",
       "    <tr>\n",
       "      <th>4</th>\n",
       "      <td>Number of Trips by Irish Residents</td>\n",
       "      <td>2000Q1</td>\n",
       "      <td>Domestic</td>\n",
       "      <td>Other reasons</td>\n",
       "      <td>Thousand</td>\n",
       "      <td>132.0</td>\n",
       "    </tr>\n",
       "    <tr>\n",
       "      <th>5</th>\n",
       "      <td>Number of Trips by Irish Residents</td>\n",
       "      <td>2000Q1</td>\n",
       "      <td>Outbound</td>\n",
       "      <td>All reasons for journey</td>\n",
       "      <td>Thousand</td>\n",
       "      <td>716.0</td>\n",
       "    </tr>\n",
       "    <tr>\n",
       "      <th>6</th>\n",
       "      <td>Number of Trips by Irish Residents</td>\n",
       "      <td>2000Q1</td>\n",
       "      <td>Outbound</td>\n",
       "      <td>Holiday</td>\n",
       "      <td>Thousand</td>\n",
       "      <td>344.0</td>\n",
       "    </tr>\n",
       "    <tr>\n",
       "      <th>7</th>\n",
       "      <td>Number of Trips by Irish Residents</td>\n",
       "      <td>2000Q1</td>\n",
       "      <td>Outbound</td>\n",
       "      <td>Business</td>\n",
       "      <td>Thousand</td>\n",
       "      <td>175.0</td>\n",
       "    </tr>\n",
       "    <tr>\n",
       "      <th>8</th>\n",
       "      <td>Number of Trips by Irish Residents</td>\n",
       "      <td>2000Q1</td>\n",
       "      <td>Outbound</td>\n",
       "      <td>Visiting friends/relatives</td>\n",
       "      <td>Thousand</td>\n",
       "      <td>142.0</td>\n",
       "    </tr>\n",
       "    <tr>\n",
       "      <th>9</th>\n",
       "      <td>Number of Trips by Irish Residents</td>\n",
       "      <td>2000Q1</td>\n",
       "      <td>Outbound</td>\n",
       "      <td>Other reasons</td>\n",
       "      <td>Thousand</td>\n",
       "      <td>54.0</td>\n",
       "    </tr>\n",
       "  </tbody>\n",
       "</table>\n",
       "</div>"
      ],
      "text/plain": [
       "                      Statistic Label Quarter  Domestic  \\\n",
       "0  Number of Trips by Irish Residents  2000Q1  Domestic   \n",
       "1  Number of Trips by Irish Residents  2000Q1  Domestic   \n",
       "2  Number of Trips by Irish Residents  2000Q1  Domestic   \n",
       "3  Number of Trips by Irish Residents  2000Q1  Domestic   \n",
       "4  Number of Trips by Irish Residents  2000Q1  Domestic   \n",
       "5  Number of Trips by Irish Residents  2000Q1  Outbound   \n",
       "6  Number of Trips by Irish Residents  2000Q1  Outbound   \n",
       "7  Number of Trips by Irish Residents  2000Q1  Outbound   \n",
       "8  Number of Trips by Irish Residents  2000Q1  Outbound   \n",
       "9  Number of Trips by Irish Residents  2000Q1  Outbound   \n",
       "\n",
       "           Reason for Journey      UNIT   VALUE  \n",
       "0     All reasons for journey  Thousand  1169.0  \n",
       "1                     Holiday  Thousand   408.0  \n",
       "2                    Business  Thousand   161.0  \n",
       "3  Visiting friends/relatives  Thousand   468.0  \n",
       "4               Other reasons  Thousand   132.0  \n",
       "5     All reasons for journey  Thousand   716.0  \n",
       "6                     Holiday  Thousand   344.0  \n",
       "7                    Business  Thousand   175.0  \n",
       "8  Visiting friends/relatives  Thousand   142.0  \n",
       "9               Other reasons  Thousand    54.0  "
      ]
     },
     "execution_count": 23,
     "metadata": {},
     "output_type": "execute_result"
    }
   ],
   "source": [
    "dataset.head(10)"
   ]
  },
  {
   "cell_type": "code",
   "execution_count": 24,
   "metadata": {},
   "outputs": [
    {
     "name": "stdout",
     "output_type": "stream",
     "text": [
      "Missing Values Per Column:\n",
      " Statistic Label        0\n",
      "Quarter                0\n",
      "Domestic               0\n",
      "Reason for Journey     0\n",
      "UNIT                   0\n",
      "VALUE                 64\n",
      "dtype: int64\n"
     ]
    }
   ],
   "source": [
    "missing_values = dataset.isnull().sum()\n",
    "print(\"Missing Values Per Column:\\n\", missing_values)"
   ]
  },
  {
   "cell_type": "code",
   "execution_count": 25,
   "metadata": {},
   "outputs": [
    {
     "name": "stderr",
     "output_type": "stream",
     "text": [
      "/var/folders/3g/lffy_gzj5nqgb76wmktqw4mr0000gn/T/ipykernel_47695/1319762796.py:2: FutureWarning: A value is trying to be set on a copy of a DataFrame or Series through chained assignment using an inplace method.\n",
      "The behavior will change in pandas 3.0. This inplace method will never work because the intermediate object on which we are setting values always behaves as a copy.\n",
      "\n",
      "For example, when doing 'df[col].method(value, inplace=True)', try using 'df.method({col: value}, inplace=True)' or df[col] = df[col].method(value) instead, to perform the operation inplace on the original object.\n",
      "\n",
      "\n",
      "  dataset['VALUE'].fillna(dataset['VALUE'].median(), inplace=True)\n"
     ]
    }
   ],
   "source": [
    "# using the median approach to fill missing values in Value Column\n",
    "dataset['VALUE'].fillna(dataset['VALUE'].median(), inplace=True)"
   ]
  },
  {
   "cell_type": "code",
   "execution_count": 26,
   "metadata": {},
   "outputs": [
    {
     "name": "stdout",
     "output_type": "stream",
     "text": [
      "Missing Values After Median Approach:\n",
      " Statistic Label       0\n",
      "Quarter               0\n",
      "Domestic              0\n",
      "Reason for Journey    0\n",
      "UNIT                  0\n",
      "VALUE                 0\n",
      "dtype: int64\n"
     ]
    }
   ],
   "source": [
    "missing_values = dataset.isnull().sum()\n",
    "print(\"Missing Values After Median Approach:\\n\", missing_values)"
   ]
  },
  {
   "cell_type": "code",
   "execution_count": 27,
   "metadata": {},
   "outputs": [
    {
     "name": "stderr",
     "output_type": "stream",
     "text": [
      "/var/folders/3g/lffy_gzj5nqgb76wmktqw4mr0000gn/T/ipykernel_47695/550336473.py:1: UserWarning: Could not infer format, so each element will be parsed individually, falling back to `dateutil`. To ensure parsing is consistent and as-expected, please specify a format.\n",
      "  dataset['Date'] = pd.to_datetime(dataset['Quarter'].astype(str))\n"
     ]
    }
   ],
   "source": [
    "dataset['Date'] = pd.to_datetime(dataset['Quarter'].astype(str))\n",
    "dataset['Year'] = dataset['Date'].dt.year\n",
    "dataset['Quarter'] = dataset['Date'].dt.quarter"
   ]
  },
  {
   "cell_type": "code",
   "execution_count": 28,
   "metadata": {},
   "outputs": [],
   "source": [
    "seasons = {1: 'Winter', 2: 'Spring', 3: 'Summer', 4: 'Autumn'}\n",
    "dataset['Season'] = dataset['Quarter'].map(seasons)"
   ]
  },
  {
   "cell_type": "code",
   "execution_count": 29,
   "metadata": {},
   "outputs": [],
   "source": [
    "dataset['VALUE'] = pd.to_numeric(dataset['VALUE'], errors='coerce')"
   ]
  },
  {
   "cell_type": "code",
   "execution_count": 32,
   "metadata": {},
   "outputs": [],
   "source": [
    "# Trips data\n",
    "trips_df = dataset[dataset['Statistic Label'].str.contains('Number of Trips')]\n",
    "trips_pivot = trips_df.pivot_table(\n",
    "    values='VALUE',\n",
    "    index=['Year', 'Quarter'],\n",
    "    columns=['Domestic', 'Reason for Journey'],\n",
    "    aggfunc='sum'\n",
    ").reset_index()"
   ]
  },
  {
   "cell_type": "code",
   "execution_count": 33,
   "metadata": {},
   "outputs": [],
   "source": [
    "# Expenditure data\n",
    "expenditure_df = dataset[dataset['Statistic Label'].str.contains('Expenditure')]\n",
    "expenditure_pivot = expenditure_df.pivot_table(\n",
    "    values='VALUE',\n",
    "    index=['Year', 'Quarter'],\n",
    "    columns=['Domestic'],\n",
    "    aggfunc='sum'\n",
    ").reset_index()"
   ]
  },
  {
   "cell_type": "code",
   "execution_count": 34,
   "metadata": {},
   "outputs": [],
   "source": [
    "# Average stay data\n",
    "stay_df = dataset[dataset['Statistic Label'].str.contains('Average Length')]\n"
   ]
  },
  {
   "cell_type": "code",
   "execution_count": 35,
   "metadata": {},
   "outputs": [],
   "source": [
    "# Also calculating the covid period \n",
    "covid = dataset['Year'].between(2020, 2021)\n",
    "dataset.loc[covid & dataset['VALUE'].isna(), 'VALUE'] = dataset.loc[covid, 'VALUE'].mean()"
   ]
  },
  {
   "cell_type": "code",
   "execution_count": 36,
   "metadata": {},
   "outputs": [],
   "source": [
    "import plotly.express as px"
   ]
  },
  {
   "cell_type": "code",
   "execution_count": 37,
   "metadata": {},
   "outputs": [
    {
     "data": {
      "application/vnd.plotly.v1+json": {
       "config": {
        "plotlyServerURL": "https://plot.ly"
       },
       "data": [
        {
         "hovertemplate": "Domestic=Domestic<br>Date=%{x}<br>VALUE=%{y}<extra></extra>",
         "legendgroup": "Domestic",
         "line": {
          "color": "#636efa",
          "dash": "solid"
         },
         "marker": {
          "symbol": "circle"
         },
         "mode": "lines",
         "name": "Domestic",
         "orientation": "v",
         "showlegend": true,
         "type": "scatter",
         "x": [
          "2000-01-01T00:00:00",
          "2000-04-01T00:00:00",
          "2000-07-01T00:00:00",
          "2000-10-01T00:00:00",
          "2001-01-01T00:00:00",
          "2001-04-01T00:00:00",
          "2001-07-01T00:00:00",
          "2001-10-01T00:00:00",
          "2002-01-01T00:00:00",
          "2002-04-01T00:00:00",
          "2002-07-01T00:00:00",
          "2002-10-01T00:00:00",
          "2003-01-01T00:00:00",
          "2003-04-01T00:00:00",
          "2003-07-01T00:00:00",
          "2003-10-01T00:00:00",
          "2004-01-01T00:00:00",
          "2004-04-01T00:00:00",
          "2004-07-01T00:00:00",
          "2004-10-01T00:00:00",
          "2005-01-01T00:00:00",
          "2005-04-01T00:00:00",
          "2005-07-01T00:00:00",
          "2005-10-01T00:00:00",
          "2006-01-01T00:00:00",
          "2006-04-01T00:00:00",
          "2006-07-01T00:00:00",
          "2006-10-01T00:00:00",
          "2007-01-01T00:00:00",
          "2007-04-01T00:00:00",
          "2007-07-01T00:00:00",
          "2007-10-01T00:00:00",
          "2008-01-01T00:00:00",
          "2008-04-01T00:00:00",
          "2008-07-01T00:00:00",
          "2008-10-01T00:00:00",
          "2009-01-01T00:00:00",
          "2009-04-01T00:00:00",
          "2009-07-01T00:00:00",
          "2009-10-01T00:00:00",
          "2012-01-01T00:00:00",
          "2012-04-01T00:00:00",
          "2012-07-01T00:00:00",
          "2012-10-01T00:00:00",
          "2013-01-01T00:00:00",
          "2013-04-01T00:00:00",
          "2013-07-01T00:00:00",
          "2013-10-01T00:00:00",
          "2014-01-01T00:00:00",
          "2014-04-01T00:00:00",
          "2014-07-01T00:00:00",
          "2014-10-01T00:00:00",
          "2015-01-01T00:00:00",
          "2015-04-01T00:00:00",
          "2015-07-01T00:00:00",
          "2015-10-01T00:00:00",
          "2016-01-01T00:00:00",
          "2016-04-01T00:00:00",
          "2016-07-01T00:00:00",
          "2016-10-01T00:00:00",
          "2017-01-01T00:00:00",
          "2017-04-01T00:00:00",
          "2017-07-01T00:00:00",
          "2017-10-01T00:00:00",
          "2018-01-01T00:00:00",
          "2018-04-01T00:00:00",
          "2018-07-01T00:00:00",
          "2018-10-01T00:00:00",
          "2019-01-01T00:00:00",
          "2019-04-01T00:00:00",
          "2019-07-01T00:00:00",
          "2019-10-01T00:00:00",
          "2020-01-01T00:00:00",
          "2020-04-01T00:00:00",
          "2020-07-01T00:00:00",
          "2020-10-01T00:00:00",
          "2021-01-01T00:00:00",
          "2021-04-01T00:00:00",
          "2021-07-01T00:00:00",
          "2021-10-01T00:00:00",
          "2022-01-01T00:00:00",
          "2022-04-01T00:00:00",
          "2022-07-01T00:00:00",
          "2022-10-01T00:00:00",
          "2023-01-01T00:00:00",
          "2023-04-01T00:00:00",
          "2023-07-01T00:00:00",
          "2023-10-01T00:00:00",
          "2024-01-01T00:00:00",
          "2024-04-01T00:00:00"
         ],
         "xaxis": "x",
         "y": [
          1169,
          1185,
          1759,
          1365,
          1235,
          1373,
          2128,
          1570,
          1360,
          1446,
          2070,
          1575,
          1447,
          1509,
          2087,
          1614,
          1585,
          1533,
          2167,
          1715,
          1490,
          1705,
          2300,
          1678,
          1457,
          1721,
          2301,
          1831,
          1579,
          1983,
          2448,
          1932,
          1851,
          1867,
          2544,
          2077,
          1760,
          2042,
          2512,
          2026,
          1602,
          1952,
          2950,
          1787,
          1514,
          2048,
          3039,
          1812,
          1719,
          2165,
          3093,
          2013,
          1731,
          2181,
          3187,
          2026,
          2088,
          2055,
          3175,
          2041,
          1908,
          2363,
          3033,
          2322,
          2118,
          2553,
          3807,
          2441,
          2223,
          2858,
          3898,
          2641,
          2160,
          237,
          4188,
          1136,
          278,
          990,
          2808,
          1587,
          2308,
          3397,
          4506,
          3064,
          2571,
          3826,
          4518,
          3394,
          3011,
          4266
         ],
         "yaxis": "y"
        },
        {
         "hovertemplate": "Domestic=Outbound<br>Date=%{x}<br>VALUE=%{y}<extra></extra>",
         "legendgroup": "Outbound",
         "line": {
          "color": "#EF553B",
          "dash": "solid"
         },
         "marker": {
          "symbol": "circle"
         },
         "mode": "lines",
         "name": "Outbound",
         "orientation": "v",
         "showlegend": true,
         "type": "scatter",
         "x": [
          "2000-01-01T00:00:00",
          "2000-04-01T00:00:00",
          "2000-07-01T00:00:00",
          "2000-10-01T00:00:00",
          "2001-01-01T00:00:00",
          "2001-04-01T00:00:00",
          "2001-07-01T00:00:00",
          "2001-10-01T00:00:00",
          "2002-01-01T00:00:00",
          "2002-04-01T00:00:00",
          "2002-07-01T00:00:00",
          "2002-10-01T00:00:00",
          "2003-01-01T00:00:00",
          "2003-04-01T00:00:00",
          "2003-07-01T00:00:00",
          "2003-10-01T00:00:00",
          "2004-01-01T00:00:00",
          "2004-04-01T00:00:00",
          "2004-07-01T00:00:00",
          "2004-10-01T00:00:00",
          "2005-01-01T00:00:00",
          "2005-04-01T00:00:00",
          "2005-07-01T00:00:00",
          "2005-10-01T00:00:00",
          "2006-01-01T00:00:00",
          "2006-04-01T00:00:00",
          "2006-07-01T00:00:00",
          "2006-10-01T00:00:00",
          "2007-01-01T00:00:00",
          "2007-04-01T00:00:00",
          "2007-07-01T00:00:00",
          "2007-10-01T00:00:00",
          "2008-01-01T00:00:00",
          "2008-04-01T00:00:00",
          "2008-07-01T00:00:00",
          "2008-10-01T00:00:00",
          "2009-01-01T00:00:00",
          "2009-04-01T00:00:00",
          "2009-07-01T00:00:00",
          "2009-10-01T00:00:00",
          "2012-01-01T00:00:00",
          "2012-04-01T00:00:00",
          "2012-07-01T00:00:00",
          "2012-10-01T00:00:00",
          "2013-01-01T00:00:00",
          "2013-04-01T00:00:00",
          "2013-07-01T00:00:00",
          "2013-10-01T00:00:00",
          "2014-01-01T00:00:00",
          "2014-04-01T00:00:00",
          "2014-07-01T00:00:00",
          "2014-10-01T00:00:00",
          "2015-01-01T00:00:00",
          "2015-04-01T00:00:00",
          "2015-07-01T00:00:00",
          "2015-10-01T00:00:00",
          "2016-01-01T00:00:00",
          "2016-04-01T00:00:00",
          "2016-07-01T00:00:00",
          "2016-10-01T00:00:00",
          "2017-01-01T00:00:00",
          "2017-04-01T00:00:00",
          "2017-07-01T00:00:00",
          "2017-10-01T00:00:00",
          "2018-01-01T00:00:00",
          "2018-04-01T00:00:00",
          "2018-07-01T00:00:00",
          "2018-10-01T00:00:00",
          "2019-01-01T00:00:00",
          "2019-04-01T00:00:00",
          "2019-07-01T00:00:00",
          "2019-10-01T00:00:00",
          "2020-01-01T00:00:00",
          "2020-04-01T00:00:00",
          "2020-07-01T00:00:00",
          "2020-10-01T00:00:00",
          "2021-01-01T00:00:00",
          "2021-04-01T00:00:00",
          "2021-07-01T00:00:00",
          "2021-10-01T00:00:00",
          "2022-01-01T00:00:00",
          "2022-04-01T00:00:00",
          "2022-07-01T00:00:00",
          "2022-10-01T00:00:00",
          "2023-01-01T00:00:00",
          "2023-04-01T00:00:00",
          "2023-07-01T00:00:00",
          "2023-10-01T00:00:00",
          "2024-01-01T00:00:00",
          "2024-04-01T00:00:00"
         ],
         "xaxis": "x",
         "y": [
          716,
          1028,
          1213,
          811,
          764,
          1115,
          1380,
          903,
          884,
          1177,
          1539,
          997,
          954,
          1330,
          1595,
          1095,
          1069,
          1425,
          1751,
          1220,
          1212,
          1661,
          1961,
          1355,
          1397,
          1850,
          2174,
          1560,
          1580,
          2073,
          2387,
          1790,
          1800,
          2060,
          2471,
          1710,
          1597,
          1927,
          2232,
          1536,
          1310,
          1823,
          2062,
          1428,
          1299,
          1813,
          2098,
          1365,
          1163,
          1839,
          2153,
          1522,
          1350,
          1926,
          2218,
          1600,
          1522,
          2002,
          2321,
          1799,
          1607,
          2162,
          2572,
          1830,
          1654,
          2283,
          2691,
          2015,
          1811,
          2555,
          2905,
          2079,
          1575,
          60,
          530,
          200,
          108,
          168,
          907,
          1094,
          1063,
          2175,
          3020,
          2287,
          2082,
          3699,
          3950,
          2903,
          2526,
          3763
         ],
         "yaxis": "y"
        }
       ],
       "layout": {
        "legend": {
         "title": {
          "text": "Domestic"
         },
         "tracegroupgap": 0
        },
        "template": {
         "data": {
          "bar": [
           {
            "error_x": {
             "color": "#2a3f5f"
            },
            "error_y": {
             "color": "#2a3f5f"
            },
            "marker": {
             "line": {
              "color": "#E5ECF6",
              "width": 0.5
             },
             "pattern": {
              "fillmode": "overlay",
              "size": 10,
              "solidity": 0.2
             }
            },
            "type": "bar"
           }
          ],
          "barpolar": [
           {
            "marker": {
             "line": {
              "color": "#E5ECF6",
              "width": 0.5
             },
             "pattern": {
              "fillmode": "overlay",
              "size": 10,
              "solidity": 0.2
             }
            },
            "type": "barpolar"
           }
          ],
          "carpet": [
           {
            "aaxis": {
             "endlinecolor": "#2a3f5f",
             "gridcolor": "white",
             "linecolor": "white",
             "minorgridcolor": "white",
             "startlinecolor": "#2a3f5f"
            },
            "baxis": {
             "endlinecolor": "#2a3f5f",
             "gridcolor": "white",
             "linecolor": "white",
             "minorgridcolor": "white",
             "startlinecolor": "#2a3f5f"
            },
            "type": "carpet"
           }
          ],
          "choropleth": [
           {
            "colorbar": {
             "outlinewidth": 0,
             "ticks": ""
            },
            "type": "choropleth"
           }
          ],
          "contour": [
           {
            "colorbar": {
             "outlinewidth": 0,
             "ticks": ""
            },
            "colorscale": [
             [
              0,
              "#0d0887"
             ],
             [
              0.1111111111111111,
              "#46039f"
             ],
             [
              0.2222222222222222,
              "#7201a8"
             ],
             [
              0.3333333333333333,
              "#9c179e"
             ],
             [
              0.4444444444444444,
              "#bd3786"
             ],
             [
              0.5555555555555556,
              "#d8576b"
             ],
             [
              0.6666666666666666,
              "#ed7953"
             ],
             [
              0.7777777777777778,
              "#fb9f3a"
             ],
             [
              0.8888888888888888,
              "#fdca26"
             ],
             [
              1,
              "#f0f921"
             ]
            ],
            "type": "contour"
           }
          ],
          "contourcarpet": [
           {
            "colorbar": {
             "outlinewidth": 0,
             "ticks": ""
            },
            "type": "contourcarpet"
           }
          ],
          "heatmap": [
           {
            "colorbar": {
             "outlinewidth": 0,
             "ticks": ""
            },
            "colorscale": [
             [
              0,
              "#0d0887"
             ],
             [
              0.1111111111111111,
              "#46039f"
             ],
             [
              0.2222222222222222,
              "#7201a8"
             ],
             [
              0.3333333333333333,
              "#9c179e"
             ],
             [
              0.4444444444444444,
              "#bd3786"
             ],
             [
              0.5555555555555556,
              "#d8576b"
             ],
             [
              0.6666666666666666,
              "#ed7953"
             ],
             [
              0.7777777777777778,
              "#fb9f3a"
             ],
             [
              0.8888888888888888,
              "#fdca26"
             ],
             [
              1,
              "#f0f921"
             ]
            ],
            "type": "heatmap"
           }
          ],
          "heatmapgl": [
           {
            "colorbar": {
             "outlinewidth": 0,
             "ticks": ""
            },
            "colorscale": [
             [
              0,
              "#0d0887"
             ],
             [
              0.1111111111111111,
              "#46039f"
             ],
             [
              0.2222222222222222,
              "#7201a8"
             ],
             [
              0.3333333333333333,
              "#9c179e"
             ],
             [
              0.4444444444444444,
              "#bd3786"
             ],
             [
              0.5555555555555556,
              "#d8576b"
             ],
             [
              0.6666666666666666,
              "#ed7953"
             ],
             [
              0.7777777777777778,
              "#fb9f3a"
             ],
             [
              0.8888888888888888,
              "#fdca26"
             ],
             [
              1,
              "#f0f921"
             ]
            ],
            "type": "heatmapgl"
           }
          ],
          "histogram": [
           {
            "marker": {
             "pattern": {
              "fillmode": "overlay",
              "size": 10,
              "solidity": 0.2
             }
            },
            "type": "histogram"
           }
          ],
          "histogram2d": [
           {
            "colorbar": {
             "outlinewidth": 0,
             "ticks": ""
            },
            "colorscale": [
             [
              0,
              "#0d0887"
             ],
             [
              0.1111111111111111,
              "#46039f"
             ],
             [
              0.2222222222222222,
              "#7201a8"
             ],
             [
              0.3333333333333333,
              "#9c179e"
             ],
             [
              0.4444444444444444,
              "#bd3786"
             ],
             [
              0.5555555555555556,
              "#d8576b"
             ],
             [
              0.6666666666666666,
              "#ed7953"
             ],
             [
              0.7777777777777778,
              "#fb9f3a"
             ],
             [
              0.8888888888888888,
              "#fdca26"
             ],
             [
              1,
              "#f0f921"
             ]
            ],
            "type": "histogram2d"
           }
          ],
          "histogram2dcontour": [
           {
            "colorbar": {
             "outlinewidth": 0,
             "ticks": ""
            },
            "colorscale": [
             [
              0,
              "#0d0887"
             ],
             [
              0.1111111111111111,
              "#46039f"
             ],
             [
              0.2222222222222222,
              "#7201a8"
             ],
             [
              0.3333333333333333,
              "#9c179e"
             ],
             [
              0.4444444444444444,
              "#bd3786"
             ],
             [
              0.5555555555555556,
              "#d8576b"
             ],
             [
              0.6666666666666666,
              "#ed7953"
             ],
             [
              0.7777777777777778,
              "#fb9f3a"
             ],
             [
              0.8888888888888888,
              "#fdca26"
             ],
             [
              1,
              "#f0f921"
             ]
            ],
            "type": "histogram2dcontour"
           }
          ],
          "mesh3d": [
           {
            "colorbar": {
             "outlinewidth": 0,
             "ticks": ""
            },
            "type": "mesh3d"
           }
          ],
          "parcoords": [
           {
            "line": {
             "colorbar": {
              "outlinewidth": 0,
              "ticks": ""
             }
            },
            "type": "parcoords"
           }
          ],
          "pie": [
           {
            "automargin": true,
            "type": "pie"
           }
          ],
          "scatter": [
           {
            "fillpattern": {
             "fillmode": "overlay",
             "size": 10,
             "solidity": 0.2
            },
            "type": "scatter"
           }
          ],
          "scatter3d": [
           {
            "line": {
             "colorbar": {
              "outlinewidth": 0,
              "ticks": ""
             }
            },
            "marker": {
             "colorbar": {
              "outlinewidth": 0,
              "ticks": ""
             }
            },
            "type": "scatter3d"
           }
          ],
          "scattercarpet": [
           {
            "marker": {
             "colorbar": {
              "outlinewidth": 0,
              "ticks": ""
             }
            },
            "type": "scattercarpet"
           }
          ],
          "scattergeo": [
           {
            "marker": {
             "colorbar": {
              "outlinewidth": 0,
              "ticks": ""
             }
            },
            "type": "scattergeo"
           }
          ],
          "scattergl": [
           {
            "marker": {
             "colorbar": {
              "outlinewidth": 0,
              "ticks": ""
             }
            },
            "type": "scattergl"
           }
          ],
          "scattermapbox": [
           {
            "marker": {
             "colorbar": {
              "outlinewidth": 0,
              "ticks": ""
             }
            },
            "type": "scattermapbox"
           }
          ],
          "scatterpolar": [
           {
            "marker": {
             "colorbar": {
              "outlinewidth": 0,
              "ticks": ""
             }
            },
            "type": "scatterpolar"
           }
          ],
          "scatterpolargl": [
           {
            "marker": {
             "colorbar": {
              "outlinewidth": 0,
              "ticks": ""
             }
            },
            "type": "scatterpolargl"
           }
          ],
          "scatterternary": [
           {
            "marker": {
             "colorbar": {
              "outlinewidth": 0,
              "ticks": ""
             }
            },
            "type": "scatterternary"
           }
          ],
          "surface": [
           {
            "colorbar": {
             "outlinewidth": 0,
             "ticks": ""
            },
            "colorscale": [
             [
              0,
              "#0d0887"
             ],
             [
              0.1111111111111111,
              "#46039f"
             ],
             [
              0.2222222222222222,
              "#7201a8"
             ],
             [
              0.3333333333333333,
              "#9c179e"
             ],
             [
              0.4444444444444444,
              "#bd3786"
             ],
             [
              0.5555555555555556,
              "#d8576b"
             ],
             [
              0.6666666666666666,
              "#ed7953"
             ],
             [
              0.7777777777777778,
              "#fb9f3a"
             ],
             [
              0.8888888888888888,
              "#fdca26"
             ],
             [
              1,
              "#f0f921"
             ]
            ],
            "type": "surface"
           }
          ],
          "table": [
           {
            "cells": {
             "fill": {
              "color": "#EBF0F8"
             },
             "line": {
              "color": "white"
             }
            },
            "header": {
             "fill": {
              "color": "#C8D4E3"
             },
             "line": {
              "color": "white"
             }
            },
            "type": "table"
           }
          ]
         },
         "layout": {
          "annotationdefaults": {
           "arrowcolor": "#2a3f5f",
           "arrowhead": 0,
           "arrowwidth": 1
          },
          "autotypenumbers": "strict",
          "coloraxis": {
           "colorbar": {
            "outlinewidth": 0,
            "ticks": ""
           }
          },
          "colorscale": {
           "diverging": [
            [
             0,
             "#8e0152"
            ],
            [
             0.1,
             "#c51b7d"
            ],
            [
             0.2,
             "#de77ae"
            ],
            [
             0.3,
             "#f1b6da"
            ],
            [
             0.4,
             "#fde0ef"
            ],
            [
             0.5,
             "#f7f7f7"
            ],
            [
             0.6,
             "#e6f5d0"
            ],
            [
             0.7,
             "#b8e186"
            ],
            [
             0.8,
             "#7fbc41"
            ],
            [
             0.9,
             "#4d9221"
            ],
            [
             1,
             "#276419"
            ]
           ],
           "sequential": [
            [
             0,
             "#0d0887"
            ],
            [
             0.1111111111111111,
             "#46039f"
            ],
            [
             0.2222222222222222,
             "#7201a8"
            ],
            [
             0.3333333333333333,
             "#9c179e"
            ],
            [
             0.4444444444444444,
             "#bd3786"
            ],
            [
             0.5555555555555556,
             "#d8576b"
            ],
            [
             0.6666666666666666,
             "#ed7953"
            ],
            [
             0.7777777777777778,
             "#fb9f3a"
            ],
            [
             0.8888888888888888,
             "#fdca26"
            ],
            [
             1,
             "#f0f921"
            ]
           ],
           "sequentialminus": [
            [
             0,
             "#0d0887"
            ],
            [
             0.1111111111111111,
             "#46039f"
            ],
            [
             0.2222222222222222,
             "#7201a8"
            ],
            [
             0.3333333333333333,
             "#9c179e"
            ],
            [
             0.4444444444444444,
             "#bd3786"
            ],
            [
             0.5555555555555556,
             "#d8576b"
            ],
            [
             0.6666666666666666,
             "#ed7953"
            ],
            [
             0.7777777777777778,
             "#fb9f3a"
            ],
            [
             0.8888888888888888,
             "#fdca26"
            ],
            [
             1,
             "#f0f921"
            ]
           ]
          },
          "colorway": [
           "#636efa",
           "#EF553B",
           "#00cc96",
           "#ab63fa",
           "#FFA15A",
           "#19d3f3",
           "#FF6692",
           "#B6E880",
           "#FF97FF",
           "#FECB52"
          ],
          "font": {
           "color": "#2a3f5f"
          },
          "geo": {
           "bgcolor": "white",
           "lakecolor": "white",
           "landcolor": "#E5ECF6",
           "showlakes": true,
           "showland": true,
           "subunitcolor": "white"
          },
          "hoverlabel": {
           "align": "left"
          },
          "hovermode": "closest",
          "mapbox": {
           "style": "light"
          },
          "paper_bgcolor": "white",
          "plot_bgcolor": "#E5ECF6",
          "polar": {
           "angularaxis": {
            "gridcolor": "white",
            "linecolor": "white",
            "ticks": ""
           },
           "bgcolor": "#E5ECF6",
           "radialaxis": {
            "gridcolor": "white",
            "linecolor": "white",
            "ticks": ""
           }
          },
          "scene": {
           "xaxis": {
            "backgroundcolor": "#E5ECF6",
            "gridcolor": "white",
            "gridwidth": 2,
            "linecolor": "white",
            "showbackground": true,
            "ticks": "",
            "zerolinecolor": "white"
           },
           "yaxis": {
            "backgroundcolor": "#E5ECF6",
            "gridcolor": "white",
            "gridwidth": 2,
            "linecolor": "white",
            "showbackground": true,
            "ticks": "",
            "zerolinecolor": "white"
           },
           "zaxis": {
            "backgroundcolor": "#E5ECF6",
            "gridcolor": "white",
            "gridwidth": 2,
            "linecolor": "white",
            "showbackground": true,
            "ticks": "",
            "zerolinecolor": "white"
           }
          },
          "shapedefaults": {
           "line": {
            "color": "#2a3f5f"
           }
          },
          "ternary": {
           "aaxis": {
            "gridcolor": "white",
            "linecolor": "white",
            "ticks": ""
           },
           "baxis": {
            "gridcolor": "white",
            "linecolor": "white",
            "ticks": ""
           },
           "bgcolor": "#E5ECF6",
           "caxis": {
            "gridcolor": "white",
            "linecolor": "white",
            "ticks": ""
           }
          },
          "title": {
           "x": 0.05
          },
          "xaxis": {
           "automargin": true,
           "gridcolor": "white",
           "linecolor": "white",
           "ticks": "",
           "title": {
            "standoff": 15
           },
           "zerolinecolor": "white",
           "zerolinewidth": 2
          },
          "yaxis": {
           "automargin": true,
           "gridcolor": "white",
           "linecolor": "white",
           "ticks": "",
           "title": {
            "standoff": 15
           },
           "zerolinecolor": "white",
           "zerolinewidth": 2
          }
         }
        },
        "title": {
         "text": "Travel Trends: Domestic vs Outbound (2000-2024)"
        },
        "xaxis": {
         "anchor": "y",
         "domain": [
          0,
          1
         ],
         "title": {
          "text": "Date"
         }
        },
        "yaxis": {
         "anchor": "x",
         "domain": [
          0,
          1
         ],
         "title": {
          "text": "VALUE"
         }
        }
       }
      }
     },
     "metadata": {},
     "output_type": "display_data"
    }
   ],
   "source": [
    "# Overall Trends from 2000 to 2024\n",
    "fig1 = px.line(\n",
    "    trips_df[trips_df['Reason for Journey'] == 'All reasons for journey'],\n",
    "    x='Date',\n",
    "    y='VALUE',\n",
    "    color='Domestic',\n",
    "    title='Travel Trends: Domestic vs Outbound (2000-2024)'\n",
    ")\n",
    "fig1.show()"
   ]
  },
  {
   "cell_type": "code",
   "execution_count": 38,
   "metadata": {},
   "outputs": [
    {
     "data": {
      "application/vnd.plotly.v1+json": {
       "config": {
        "plotlyServerURL": "https://plot.ly"
       },
       "data": [
        {
         "alignmentgroup": "True",
         "hovertemplate": "Domestic=Domestic<br>Reason for Journey=All reasons for journey<br>Season=%{x}<br>VALUE=%{y}<extra></extra>",
         "legendgroup": "Domestic",
         "marker": {
          "color": "#636efa"
         },
         "name": "Domestic",
         "notched": false,
         "offsetgroup": "Domestic",
         "orientation": "v",
         "showlegend": true,
         "type": "box",
         "x": [
          "Winter",
          "Spring",
          "Summer",
          "Autumn",
          "Winter",
          "Spring",
          "Summer",
          "Autumn",
          "Winter",
          "Spring",
          "Summer",
          "Autumn",
          "Winter",
          "Spring",
          "Summer",
          "Autumn",
          "Winter",
          "Spring",
          "Summer",
          "Autumn",
          "Winter",
          "Spring",
          "Summer",
          "Autumn",
          "Winter",
          "Spring",
          "Summer",
          "Autumn",
          "Winter",
          "Spring",
          "Summer",
          "Autumn",
          "Winter",
          "Spring",
          "Summer",
          "Autumn",
          "Winter",
          "Spring",
          "Summer",
          "Autumn",
          "Winter",
          "Spring",
          "Summer",
          "Autumn",
          "Winter",
          "Spring",
          "Summer",
          "Autumn",
          "Winter",
          "Spring",
          "Summer",
          "Autumn",
          "Winter",
          "Spring",
          "Summer",
          "Autumn",
          "Winter",
          "Spring",
          "Summer",
          "Autumn",
          "Winter",
          "Spring",
          "Summer",
          "Autumn",
          "Winter",
          "Spring",
          "Summer",
          "Autumn",
          "Winter",
          "Spring",
          "Summer",
          "Autumn",
          "Winter",
          "Spring",
          "Summer",
          "Autumn",
          "Winter",
          "Spring",
          "Summer",
          "Autumn",
          "Winter",
          "Spring",
          "Summer",
          "Autumn",
          "Winter",
          "Spring",
          "Summer",
          "Autumn",
          "Winter",
          "Spring"
         ],
         "x0": " ",
         "xaxis": "x",
         "y": [
          1169,
          1185,
          1759,
          1365,
          1235,
          1373,
          2128,
          1570,
          1360,
          1446,
          2070,
          1575,
          1447,
          1509,
          2087,
          1614,
          1585,
          1533,
          2167,
          1715,
          1490,
          1705,
          2300,
          1678,
          1457,
          1721,
          2301,
          1831,
          1579,
          1983,
          2448,
          1932,
          1851,
          1867,
          2544,
          2077,
          1760,
          2042,
          2512,
          2026,
          1602,
          1952,
          2950,
          1787,
          1514,
          2048,
          3039,
          1812,
          1719,
          2165,
          3093,
          2013,
          1731,
          2181,
          3187,
          2026,
          2088,
          2055,
          3175,
          2041,
          1908,
          2363,
          3033,
          2322,
          2118,
          2553,
          3807,
          2441,
          2223,
          2858,
          3898,
          2641,
          2160,
          237,
          4188,
          1136,
          278,
          990,
          2808,
          1587,
          2308,
          3397,
          4506,
          3064,
          2571,
          3826,
          4518,
          3394,
          3011,
          4266
         ],
         "y0": " ",
         "yaxis": "y"
        },
        {
         "alignmentgroup": "True",
         "hovertemplate": "Domestic=Domestic<br>Reason for Journey=Holiday<br>Season=%{x}<br>VALUE=%{y}<extra></extra>",
         "legendgroup": "Domestic",
         "marker": {
          "color": "#636efa"
         },
         "name": "Domestic",
         "notched": false,
         "offsetgroup": "Domestic",
         "orientation": "v",
         "showlegend": false,
         "type": "box",
         "x": [
          "Winter",
          "Spring",
          "Summer",
          "Autumn",
          "Winter",
          "Spring",
          "Summer",
          "Autumn",
          "Winter",
          "Spring",
          "Summer",
          "Autumn",
          "Winter",
          "Spring",
          "Summer",
          "Autumn",
          "Winter",
          "Spring",
          "Summer",
          "Autumn",
          "Winter",
          "Spring",
          "Summer",
          "Autumn",
          "Winter",
          "Spring",
          "Summer",
          "Autumn",
          "Winter",
          "Spring",
          "Summer",
          "Autumn",
          "Winter",
          "Spring",
          "Summer",
          "Autumn",
          "Winter",
          "Spring",
          "Summer",
          "Autumn",
          "Winter",
          "Spring",
          "Summer",
          "Autumn",
          "Winter",
          "Spring",
          "Summer",
          "Autumn",
          "Winter",
          "Spring",
          "Summer",
          "Autumn",
          "Winter",
          "Spring",
          "Summer",
          "Autumn",
          "Winter",
          "Spring",
          "Summer",
          "Autumn",
          "Winter",
          "Spring",
          "Summer",
          "Autumn",
          "Winter",
          "Spring",
          "Summer",
          "Autumn",
          "Winter",
          "Spring",
          "Summer",
          "Autumn",
          "Winter",
          "Spring",
          "Summer",
          "Autumn",
          "Winter",
          "Spring",
          "Summer",
          "Autumn",
          "Winter",
          "Spring",
          "Summer",
          "Autumn",
          "Winter",
          "Spring",
          "Summer",
          "Autumn",
          "Winter",
          "Spring"
         ],
         "x0": " ",
         "xaxis": "x2",
         "y": [
          408,
          554,
          1098,
          456,
          483,
          650,
          1248,
          521,
          485,
          652,
          1179,
          504,
          536,
          657,
          1199,
          541,
          572,
          723,
          1239,
          608,
          575,
          781,
          1332,
          660,
          691,
          816,
          1527,
          793,
          769,
          1074,
          1577,
          850,
          890,
          1021,
          1579,
          908,
          739,
          985,
          1494,
          819,
          726,
          906,
          1707,
          697,
          612,
          971,
          1805,
          684,
          665,
          1088,
          1911,
          771,
          767,
          1063,
          1968,
          860,
          967,
          1083,
          1892,
          927,
          832,
          1243,
          1797,
          1014,
          930,
          1277,
          2162,
          954,
          955,
          1463,
          2220,
          1180,
          941,
          222.8,
          2926,
          286,
          4,
          488,
          1982,
          690,
          1091,
          1817,
          2623,
          1089,
          1028,
          1682,
          2350,
          1316,
          1096,
          2027
         ],
         "y0": " ",
         "yaxis": "y2"
        },
        {
         "alignmentgroup": "True",
         "hovertemplate": "Domestic=Domestic<br>Reason for Journey=Business<br>Season=%{x}<br>VALUE=%{y}<extra></extra>",
         "legendgroup": "Domestic",
         "marker": {
          "color": "#636efa"
         },
         "name": "Domestic",
         "notched": false,
         "offsetgroup": "Domestic",
         "orientation": "v",
         "showlegend": false,
         "type": "box",
         "x": [
          "Winter",
          "Spring",
          "Summer",
          "Autumn",
          "Winter",
          "Spring",
          "Summer",
          "Autumn",
          "Winter",
          "Spring",
          "Summer",
          "Autumn",
          "Winter",
          "Spring",
          "Summer",
          "Autumn",
          "Winter",
          "Spring",
          "Summer",
          "Autumn",
          "Winter",
          "Spring",
          "Summer",
          "Autumn",
          "Winter",
          "Spring",
          "Summer",
          "Autumn",
          "Winter",
          "Spring",
          "Summer",
          "Autumn",
          "Winter",
          "Spring",
          "Summer",
          "Autumn",
          "Winter",
          "Spring",
          "Summer",
          "Autumn",
          "Winter",
          "Spring",
          "Summer",
          "Autumn",
          "Winter",
          "Spring",
          "Summer",
          "Autumn",
          "Winter",
          "Spring",
          "Summer",
          "Autumn",
          "Winter",
          "Spring",
          "Summer",
          "Autumn",
          "Winter",
          "Spring",
          "Summer",
          "Autumn",
          "Winter",
          "Spring",
          "Summer",
          "Autumn",
          "Winter",
          "Spring",
          "Summer",
          "Autumn",
          "Winter",
          "Spring",
          "Summer",
          "Autumn",
          "Winter",
          "Spring",
          "Summer",
          "Autumn",
          "Winter",
          "Spring",
          "Summer",
          "Autumn",
          "Winter",
          "Spring",
          "Summer",
          "Autumn",
          "Winter",
          "Spring",
          "Summer",
          "Autumn",
          "Winter",
          "Spring"
         ],
         "x0": " ",
         "xaxis": "x3",
         "y": [
          161,
          127,
          92,
          174,
          162,
          144,
          147,
          199,
          143,
          143,
          123,
          174,
          167,
          136,
          140,
          176,
          183,
          163,
          129,
          149,
          191,
          196,
          145,
          238,
          191,
          255,
          513,
          195,
          174,
          194,
          113,
          230,
          194,
          152,
          124,
          187,
          162,
          145,
          121,
          172,
          97,
          92,
          82,
          79,
          103,
          88,
          75,
          98,
          144,
          101,
          87,
          121,
          125,
          108,
          54,
          120,
          115,
          118,
          62,
          136,
          112,
          102,
          70,
          142,
          143,
          114,
          88,
          127,
          121,
          146,
          100,
          184,
          136,
          222.8,
          44,
          40,
          23,
          27,
          32,
          83,
          78,
          193,
          125,
          133,
          176,
          148,
          162,
          201,
          190,
          226
         ],
         "y0": " ",
         "yaxis": "y3"
        },
        {
         "alignmentgroup": "True",
         "hovertemplate": "Domestic=Domestic<br>Reason for Journey=Visiting friends/relatives<br>Season=%{x}<br>VALUE=%{y}<extra></extra>",
         "legendgroup": "Domestic",
         "marker": {
          "color": "#636efa"
         },
         "name": "Domestic",
         "notched": false,
         "offsetgroup": "Domestic",
         "orientation": "v",
         "showlegend": false,
         "type": "box",
         "x": [
          "Winter",
          "Spring",
          "Summer",
          "Autumn",
          "Winter",
          "Spring",
          "Summer",
          "Autumn",
          "Winter",
          "Spring",
          "Summer",
          "Autumn",
          "Winter",
          "Spring",
          "Summer",
          "Autumn",
          "Winter",
          "Spring",
          "Summer",
          "Autumn",
          "Winter",
          "Spring",
          "Summer",
          "Autumn",
          "Winter",
          "Spring",
          "Summer",
          "Autumn",
          "Winter",
          "Spring",
          "Summer",
          "Autumn",
          "Winter",
          "Spring",
          "Summer",
          "Autumn",
          "Winter",
          "Spring",
          "Summer",
          "Autumn",
          "Winter",
          "Spring",
          "Summer",
          "Autumn",
          "Winter",
          "Spring",
          "Summer",
          "Autumn",
          "Winter",
          "Spring",
          "Summer",
          "Autumn",
          "Winter",
          "Spring",
          "Summer",
          "Autumn",
          "Winter",
          "Spring",
          "Summer",
          "Autumn",
          "Winter",
          "Spring",
          "Summer",
          "Autumn",
          "Winter",
          "Spring",
          "Summer",
          "Autumn",
          "Winter",
          "Spring",
          "Summer",
          "Autumn",
          "Winter",
          "Spring",
          "Summer",
          "Autumn",
          "Winter",
          "Spring",
          "Summer",
          "Autumn",
          "Winter",
          "Spring",
          "Summer",
          "Autumn",
          "Winter",
          "Spring",
          "Summer",
          "Autumn",
          "Winter",
          "Spring"
         ],
         "x0": " ",
         "xaxis": "x4",
         "y": [
          468,
          355,
          407,
          570,
          446,
          438,
          518,
          661,
          582,
          467,
          541,
          697,
          568,
          498,
          516,
          709,
          658,
          475,
          559,
          729,
          560,
          497,
          551,
          690,
          493,
          530,
          121,
          718,
          526,
          598,
          590,
          706,
          649,
          554,
          658,
          795,
          626,
          649,
          645,
          792,
          539,
          708,
          763,
          755,
          623,
          759,
          799,
          807,
          662,
          666,
          711,
          879,
          613,
          708,
          797,
          804,
          757,
          608,
          913,
          767,
          689,
          669,
          841,
          896,
          794,
          786,
          1136,
          1042,
          866,
          881,
          1095,
          1006,
          810,
          222.8,
          1120,
          557,
          151,
          390,
          669,
          670,
          874,
          1040,
          1295,
          1350,
          1056,
          1426,
          1744,
          1501,
          1453,
          1523
         ],
         "y0": " ",
         "yaxis": "y4"
        },
        {
         "alignmentgroup": "True",
         "hovertemplate": "Domestic=Domestic<br>Reason for Journey=Other reasons<br>Season=%{x}<br>VALUE=%{y}<extra></extra>",
         "legendgroup": "Domestic",
         "marker": {
          "color": "#636efa"
         },
         "name": "Domestic",
         "notched": false,
         "offsetgroup": "Domestic",
         "orientation": "v",
         "showlegend": false,
         "type": "box",
         "x": [
          "Winter",
          "Spring",
          "Summer",
          "Autumn",
          "Winter",
          "Spring",
          "Summer",
          "Autumn",
          "Winter",
          "Spring",
          "Summer",
          "Autumn",
          "Winter",
          "Spring",
          "Summer",
          "Autumn",
          "Winter",
          "Spring",
          "Summer",
          "Autumn",
          "Winter",
          "Spring",
          "Summer",
          "Autumn",
          "Winter",
          "Spring",
          "Summer",
          "Autumn",
          "Winter",
          "Spring",
          "Summer",
          "Autumn",
          "Winter",
          "Spring",
          "Summer",
          "Autumn",
          "Winter",
          "Spring",
          "Summer",
          "Autumn",
          "Winter",
          "Spring",
          "Summer",
          "Autumn",
          "Winter",
          "Spring",
          "Summer",
          "Autumn",
          "Winter",
          "Spring",
          "Summer",
          "Autumn",
          "Winter",
          "Spring",
          "Summer",
          "Autumn",
          "Winter",
          "Spring",
          "Summer",
          "Autumn",
          "Winter",
          "Spring",
          "Summer",
          "Autumn",
          "Winter",
          "Spring",
          "Summer",
          "Autumn",
          "Winter",
          "Spring",
          "Summer",
          "Autumn",
          "Winter",
          "Spring",
          "Summer",
          "Autumn",
          "Winter",
          "Spring",
          "Summer",
          "Autumn",
          "Winter",
          "Spring",
          "Summer",
          "Autumn",
          "Winter",
          "Spring",
          "Summer",
          "Autumn",
          "Winter",
          "Spring"
         ],
         "x0": " ",
         "xaxis": "x5",
         "y": [
          132,
          148,
          163,
          164,
          144,
          141,
          216,
          189,
          151,
          184,
          227,
          200,
          175,
          219,
          233,
          188,
          172,
          173,
          241,
          229,
          165,
          231,
          271,
          90,
          82,
          121,
          141,
          124,
          111,
          117,
          168,
          146,
          118,
          140,
          183,
          187,
          233,
          263,
          252,
          242,
          241,
          245,
          399,
          256,
          176,
          229,
          360,
          223,
          248,
          309,
          384,
          242,
          226,
          302,
          368,
          242,
          249,
          246,
          309,
          211,
          275,
          349,
          326,
          269,
          250,
          375,
          421,
          318,
          281,
          369,
          483,
          271,
          273,
          222.8,
          99,
          253,
          100,
          85,
          125,
          143,
          265,
          347,
          464,
          491,
          310,
          570,
          263,
          375,
          272,
          490
         ],
         "y0": " ",
         "yaxis": "y5"
        },
        {
         "alignmentgroup": "True",
         "hovertemplate": "Domestic=Outbound<br>Reason for Journey=All reasons for journey<br>Season=%{x}<br>VALUE=%{y}<extra></extra>",
         "legendgroup": "Outbound",
         "marker": {
          "color": "#EF553B"
         },
         "name": "Outbound",
         "notched": false,
         "offsetgroup": "Outbound",
         "orientation": "v",
         "showlegend": true,
         "type": "box",
         "x": [
          "Winter",
          "Spring",
          "Summer",
          "Autumn",
          "Winter",
          "Spring",
          "Summer",
          "Autumn",
          "Winter",
          "Spring",
          "Summer",
          "Autumn",
          "Winter",
          "Spring",
          "Summer",
          "Autumn",
          "Winter",
          "Spring",
          "Summer",
          "Autumn",
          "Winter",
          "Spring",
          "Summer",
          "Autumn",
          "Winter",
          "Spring",
          "Summer",
          "Autumn",
          "Winter",
          "Spring",
          "Summer",
          "Autumn",
          "Winter",
          "Spring",
          "Summer",
          "Autumn",
          "Winter",
          "Spring",
          "Summer",
          "Autumn",
          "Winter",
          "Spring",
          "Summer",
          "Autumn",
          "Winter",
          "Spring",
          "Summer",
          "Autumn",
          "Winter",
          "Spring",
          "Summer",
          "Autumn",
          "Winter",
          "Spring",
          "Summer",
          "Autumn",
          "Winter",
          "Spring",
          "Summer",
          "Autumn",
          "Winter",
          "Spring",
          "Summer",
          "Autumn",
          "Winter",
          "Spring",
          "Summer",
          "Autumn",
          "Winter",
          "Spring",
          "Summer",
          "Autumn",
          "Winter",
          "Spring",
          "Summer",
          "Autumn",
          "Winter",
          "Spring",
          "Summer",
          "Autumn",
          "Winter",
          "Spring",
          "Summer",
          "Autumn",
          "Winter",
          "Spring",
          "Summer",
          "Autumn",
          "Winter",
          "Spring"
         ],
         "x0": " ",
         "xaxis": "x",
         "y": [
          716,
          1028,
          1213,
          811,
          764,
          1115,
          1380,
          903,
          884,
          1177,
          1539,
          997,
          954,
          1330,
          1595,
          1095,
          1069,
          1425,
          1751,
          1220,
          1212,
          1661,
          1961,
          1355,
          1397,
          1850,
          2174,
          1560,
          1580,
          2073,
          2387,
          1790,
          1800,
          2060,
          2471,
          1710,
          1597,
          1927,
          2232,
          1536,
          1310,
          1823,
          2062,
          1428,
          1299,
          1813,
          2098,
          1365,
          1163,
          1839,
          2153,
          1522,
          1350,
          1926,
          2218,
          1600,
          1522,
          2002,
          2321,
          1799,
          1607,
          2162,
          2572,
          1830,
          1654,
          2283,
          2691,
          2015,
          1811,
          2555,
          2905,
          2079,
          1575,
          60,
          530,
          200,
          108,
          168,
          907,
          1094,
          1063,
          2175,
          3020,
          2287,
          2082,
          3699,
          3950,
          2903,
          2526,
          3763
         ],
         "y0": " ",
         "yaxis": "y"
        },
        {
         "alignmentgroup": "True",
         "hovertemplate": "Domestic=Outbound<br>Reason for Journey=Holiday<br>Season=%{x}<br>VALUE=%{y}<extra></extra>",
         "legendgroup": "Outbound",
         "marker": {
          "color": "#EF553B"
         },
         "name": "Outbound",
         "notched": false,
         "offsetgroup": "Outbound",
         "orientation": "v",
         "showlegend": false,
         "type": "box",
         "x": [
          "Winter",
          "Spring",
          "Summer",
          "Autumn",
          "Winter",
          "Spring",
          "Summer",
          "Autumn",
          "Winter",
          "Spring",
          "Summer",
          "Autumn",
          "Winter",
          "Spring",
          "Summer",
          "Autumn",
          "Winter",
          "Spring",
          "Summer",
          "Autumn",
          "Winter",
          "Spring",
          "Summer",
          "Autumn",
          "Winter",
          "Spring",
          "Summer",
          "Autumn",
          "Winter",
          "Spring",
          "Summer",
          "Autumn",
          "Winter",
          "Spring",
          "Summer",
          "Autumn",
          "Winter",
          "Spring",
          "Summer",
          "Autumn",
          "Winter",
          "Spring",
          "Summer",
          "Autumn",
          "Winter",
          "Spring",
          "Summer",
          "Autumn",
          "Winter",
          "Spring",
          "Summer",
          "Autumn",
          "Winter",
          "Spring",
          "Summer",
          "Autumn",
          "Winter",
          "Spring",
          "Summer",
          "Autumn",
          "Winter",
          "Spring",
          "Summer",
          "Autumn",
          "Winter",
          "Spring",
          "Summer",
          "Autumn",
          "Winter",
          "Spring",
          "Summer",
          "Autumn",
          "Winter",
          "Spring",
          "Summer",
          "Autumn",
          "Winter",
          "Spring",
          "Summer",
          "Autumn",
          "Winter",
          "Spring",
          "Summer",
          "Autumn",
          "Winter",
          "Spring",
          "Summer",
          "Autumn",
          "Winter",
          "Spring"
         ],
         "x0": " ",
         "xaxis": "x2",
         "y": [
          344,
          642,
          847,
          393,
          374,
          749,
          1007,
          439,
          459,
          771,
          1112,
          491,
          533,
          897,
          1142,
          590,
          582,
          953,
          1275,
          662,
          716,
          1074,
          1419,
          722,
          842,
          1243,
          1594,
          934,
          1026,
          1486,
          1809,
          1127,
          1218,
          1443,
          1874,
          1023,
          930,
          1227,
          1543,
          799,
          634,
          1100,
          1429,
          654,
          605,
          1053,
          1369,
          632,
          516,
          1010,
          1433,
          716,
          674,
          1191,
          1579,
          776,
          727,
          1158,
          1527,
          833,
          838,
          1359,
          1803,
          912,
          753,
          1521,
          1851,
          1031,
          920,
          1553,
          2033,
          1060,
          812,
          222.8,
          222.8,
          222.8,
          6,
          47,
          523,
          504,
          559,
          1252,
          2319,
          1255,
          1077,
          2015,
          2504,
          1675,
          1539,
          2307
         ],
         "y0": " ",
         "yaxis": "y2"
        },
        {
         "alignmentgroup": "True",
         "hovertemplate": "Domestic=Outbound<br>Reason for Journey=Business<br>Season=%{x}<br>VALUE=%{y}<extra></extra>",
         "legendgroup": "Outbound",
         "marker": {
          "color": "#EF553B"
         },
         "name": "Outbound",
         "notched": false,
         "offsetgroup": "Outbound",
         "orientation": "v",
         "showlegend": false,
         "type": "box",
         "x": [
          "Winter",
          "Spring",
          "Summer",
          "Autumn",
          "Winter",
          "Spring",
          "Summer",
          "Autumn",
          "Winter",
          "Spring",
          "Summer",
          "Autumn",
          "Winter",
          "Spring",
          "Summer",
          "Autumn",
          "Winter",
          "Spring",
          "Summer",
          "Autumn",
          "Winter",
          "Spring",
          "Summer",
          "Autumn",
          "Winter",
          "Spring",
          "Summer",
          "Autumn",
          "Winter",
          "Spring",
          "Summer",
          "Autumn",
          "Winter",
          "Spring",
          "Summer",
          "Autumn",
          "Winter",
          "Spring",
          "Summer",
          "Autumn",
          "Winter",
          "Spring",
          "Summer",
          "Autumn",
          "Winter",
          "Spring",
          "Summer",
          "Autumn",
          "Winter",
          "Spring",
          "Summer",
          "Autumn",
          "Winter",
          "Spring",
          "Summer",
          "Autumn",
          "Winter",
          "Spring",
          "Summer",
          "Autumn",
          "Winter",
          "Spring",
          "Summer",
          "Autumn",
          "Winter",
          "Spring",
          "Summer",
          "Autumn",
          "Winter",
          "Spring",
          "Summer",
          "Autumn",
          "Winter",
          "Spring",
          "Summer",
          "Autumn",
          "Winter",
          "Spring",
          "Summer",
          "Autumn",
          "Winter",
          "Spring",
          "Summer",
          "Autumn",
          "Winter",
          "Spring",
          "Summer",
          "Autumn",
          "Winter",
          "Spring"
         ],
         "x0": " ",
         "xaxis": "x3",
         "y": [
          175,
          148,
          129,
          170,
          189,
          161,
          127,
          162,
          164,
          145,
          140,
          160,
          147,
          157,
          159,
          158,
          197,
          153,
          163,
          171,
          180,
          218,
          169,
          224,
          212,
          234,
          339,
          178,
          202,
          184,
          142,
          195,
          192,
          170,
          130,
          175,
          157,
          161,
          148,
          172,
          142,
          154,
          116,
          172,
          175,
          152,
          135,
          189,
          160,
          227,
          153,
          189,
          200,
          210,
          144,
          213,
          237,
          232,
          149,
          279,
          205,
          205,
          132,
          212,
          241,
          166,
          172,
          276,
          239,
          225,
          164,
          264,
          191,
          222.8,
          222.8,
          222.8,
          10,
          16,
          39,
          107,
          70,
          106,
          112,
          214,
          177,
          343,
          203,
          260,
          238,
          263
         ],
         "y0": " ",
         "yaxis": "y3"
        },
        {
         "alignmentgroup": "True",
         "hovertemplate": "Domestic=Outbound<br>Reason for Journey=Visiting friends/relatives<br>Season=%{x}<br>VALUE=%{y}<extra></extra>",
         "legendgroup": "Outbound",
         "marker": {
          "color": "#EF553B"
         },
         "name": "Outbound",
         "notched": false,
         "offsetgroup": "Outbound",
         "orientation": "v",
         "showlegend": false,
         "type": "box",
         "x": [
          "Winter",
          "Spring",
          "Summer",
          "Autumn",
          "Winter",
          "Spring",
          "Summer",
          "Autumn",
          "Winter",
          "Spring",
          "Summer",
          "Autumn",
          "Winter",
          "Spring",
          "Summer",
          "Autumn",
          "Winter",
          "Spring",
          "Summer",
          "Autumn",
          "Winter",
          "Spring",
          "Summer",
          "Autumn",
          "Winter",
          "Spring",
          "Summer",
          "Autumn",
          "Winter",
          "Spring",
          "Summer",
          "Autumn",
          "Winter",
          "Spring",
          "Summer",
          "Autumn",
          "Winter",
          "Spring",
          "Summer",
          "Autumn",
          "Winter",
          "Spring",
          "Summer",
          "Autumn",
          "Winter",
          "Spring",
          "Summer",
          "Autumn",
          "Winter",
          "Spring",
          "Summer",
          "Autumn",
          "Winter",
          "Spring",
          "Summer",
          "Autumn",
          "Winter",
          "Spring",
          "Summer",
          "Autumn",
          "Winter",
          "Spring",
          "Summer",
          "Autumn",
          "Winter",
          "Spring",
          "Summer",
          "Autumn",
          "Winter",
          "Spring",
          "Summer",
          "Autumn",
          "Winter",
          "Spring",
          "Summer",
          "Autumn",
          "Winter",
          "Spring",
          "Summer",
          "Autumn",
          "Winter",
          "Spring",
          "Summer",
          "Autumn",
          "Winter",
          "Spring",
          "Summer",
          "Autumn",
          "Winter",
          "Spring"
         ],
         "x0": " ",
         "xaxis": "x4",
         "y": [
          142,
          160,
          166,
          196,
          153,
          141,
          177,
          234,
          189,
          181,
          211,
          275,
          193,
          193,
          220,
          271,
          214,
          242,
          224,
          304,
          227,
          252,
          270,
          369,
          287,
          314,
          159,
          377,
          298,
          308,
          348,
          401,
          321,
          357,
          346,
          430,
          339,
          356,
          391,
          437,
          355,
          353,
          364,
          401,
          348,
          433,
          446,
          398,
          328,
          406,
          433,
          454,
          318,
          357,
          336,
          419,
          376,
          406,
          490,
          474,
          387,
          373,
          485,
          484,
          473,
          393,
          505,
          513,
          453,
          490,
          481,
          512,
          413,
          222.8,
          222.8,
          222.8,
          23,
          36,
          284,
          400,
          345,
          586,
          505,
          647,
          679,
          1053,
          1093,
          706,
          541,
          861
         ],
         "y0": " ",
         "yaxis": "y4"
        },
        {
         "alignmentgroup": "True",
         "hovertemplate": "Domestic=Outbound<br>Reason for Journey=Other reasons<br>Season=%{x}<br>VALUE=%{y}<extra></extra>",
         "legendgroup": "Outbound",
         "marker": {
          "color": "#EF553B"
         },
         "name": "Outbound",
         "notched": false,
         "offsetgroup": "Outbound",
         "orientation": "v",
         "showlegend": false,
         "type": "box",
         "x": [
          "Winter",
          "Spring",
          "Summer",
          "Autumn",
          "Winter",
          "Spring",
          "Summer",
          "Autumn",
          "Winter",
          "Spring",
          "Summer",
          "Autumn",
          "Winter",
          "Spring",
          "Summer",
          "Autumn",
          "Winter",
          "Spring",
          "Summer",
          "Autumn",
          "Winter",
          "Spring",
          "Summer",
          "Autumn",
          "Winter",
          "Spring",
          "Summer",
          "Autumn",
          "Winter",
          "Spring",
          "Summer",
          "Autumn",
          "Winter",
          "Spring",
          "Summer",
          "Autumn",
          "Winter",
          "Spring",
          "Summer",
          "Autumn",
          "Winter",
          "Spring",
          "Summer",
          "Autumn",
          "Winter",
          "Spring",
          "Summer",
          "Autumn",
          "Winter",
          "Spring",
          "Summer",
          "Autumn",
          "Winter",
          "Spring",
          "Summer",
          "Autumn",
          "Winter",
          "Spring",
          "Summer",
          "Autumn",
          "Winter",
          "Spring",
          "Summer",
          "Autumn",
          "Winter",
          "Spring",
          "Summer",
          "Autumn",
          "Winter",
          "Spring",
          "Summer",
          "Autumn",
          "Winter",
          "Spring",
          "Summer",
          "Autumn",
          "Winter",
          "Spring",
          "Summer",
          "Autumn",
          "Winter",
          "Spring",
          "Summer",
          "Autumn",
          "Winter",
          "Spring",
          "Summer",
          "Autumn",
          "Winter",
          "Spring"
         ],
         "x0": " ",
         "xaxis": "x5",
         "y": [
          54,
          78,
          72,
          53,
          48,
          64,
          70,
          69,
          72,
          79,
          77,
          71,
          81,
          84,
          74,
          76,
          75,
          77,
          89,
          83,
          90,
          117,
          103,
          41,
          56,
          59,
          83,
          71,
          54,
          95,
          88,
          67,
          69,
          90,
          121,
          82,
          170,
          183,
          151,
          128,
          180,
          216,
          153,
          201,
          171,
          175,
          148,
          146,
          158,
          197,
          134,
          163,
          159,
          168,
          159,
          192,
          182,
          206,
          155,
          213,
          177,
          226,
          152,
          222,
          187,
          203,
          164,
          196,
          199,
          287,
          227,
          244,
          159,
          222.8,
          222.8,
          222.8,
          69,
          69,
          62,
          83,
          89,
          232,
          85,
          171,
          149,
          288,
          150,
          262,
          208,
          332
         ],
         "y0": " ",
         "yaxis": "y5"
        }
       ],
       "layout": {
        "annotations": [
         {
          "font": {},
          "showarrow": false,
          "text": "Reason for Journey=All reasons for journey",
          "x": 0.09200000000000001,
          "xanchor": "center",
          "xref": "paper",
          "y": 1,
          "yanchor": "bottom",
          "yref": "paper"
         },
         {
          "font": {},
          "showarrow": false,
          "text": "Reason for Journey=Holiday",
          "x": 0.29600000000000004,
          "xanchor": "center",
          "xref": "paper",
          "y": 1,
          "yanchor": "bottom",
          "yref": "paper"
         },
         {
          "font": {},
          "showarrow": false,
          "text": "Reason for Journey=Business",
          "x": 0.5,
          "xanchor": "center",
          "xref": "paper",
          "y": 1,
          "yanchor": "bottom",
          "yref": "paper"
         },
         {
          "font": {},
          "showarrow": false,
          "text": "Reason for Journey=Visiting friends/relatives",
          "x": 0.7040000000000002,
          "xanchor": "center",
          "xref": "paper",
          "y": 1,
          "yanchor": "bottom",
          "yref": "paper"
         },
         {
          "font": {},
          "showarrow": false,
          "text": "Reason for Journey=Other reasons",
          "x": 0.908,
          "xanchor": "center",
          "xref": "paper",
          "y": 1,
          "yanchor": "bottom",
          "yref": "paper"
         }
        ],
        "boxmode": "group",
        "legend": {
         "title": {
          "text": "Domestic"
         },
         "tracegroupgap": 0
        },
        "template": {
         "data": {
          "bar": [
           {
            "error_x": {
             "color": "#2a3f5f"
            },
            "error_y": {
             "color": "#2a3f5f"
            },
            "marker": {
             "line": {
              "color": "#E5ECF6",
              "width": 0.5
             },
             "pattern": {
              "fillmode": "overlay",
              "size": 10,
              "solidity": 0.2
             }
            },
            "type": "bar"
           }
          ],
          "barpolar": [
           {
            "marker": {
             "line": {
              "color": "#E5ECF6",
              "width": 0.5
             },
             "pattern": {
              "fillmode": "overlay",
              "size": 10,
              "solidity": 0.2
             }
            },
            "type": "barpolar"
           }
          ],
          "carpet": [
           {
            "aaxis": {
             "endlinecolor": "#2a3f5f",
             "gridcolor": "white",
             "linecolor": "white",
             "minorgridcolor": "white",
             "startlinecolor": "#2a3f5f"
            },
            "baxis": {
             "endlinecolor": "#2a3f5f",
             "gridcolor": "white",
             "linecolor": "white",
             "minorgridcolor": "white",
             "startlinecolor": "#2a3f5f"
            },
            "type": "carpet"
           }
          ],
          "choropleth": [
           {
            "colorbar": {
             "outlinewidth": 0,
             "ticks": ""
            },
            "type": "choropleth"
           }
          ],
          "contour": [
           {
            "colorbar": {
             "outlinewidth": 0,
             "ticks": ""
            },
            "colorscale": [
             [
              0,
              "#0d0887"
             ],
             [
              0.1111111111111111,
              "#46039f"
             ],
             [
              0.2222222222222222,
              "#7201a8"
             ],
             [
              0.3333333333333333,
              "#9c179e"
             ],
             [
              0.4444444444444444,
              "#bd3786"
             ],
             [
              0.5555555555555556,
              "#d8576b"
             ],
             [
              0.6666666666666666,
              "#ed7953"
             ],
             [
              0.7777777777777778,
              "#fb9f3a"
             ],
             [
              0.8888888888888888,
              "#fdca26"
             ],
             [
              1,
              "#f0f921"
             ]
            ],
            "type": "contour"
           }
          ],
          "contourcarpet": [
           {
            "colorbar": {
             "outlinewidth": 0,
             "ticks": ""
            },
            "type": "contourcarpet"
           }
          ],
          "heatmap": [
           {
            "colorbar": {
             "outlinewidth": 0,
             "ticks": ""
            },
            "colorscale": [
             [
              0,
              "#0d0887"
             ],
             [
              0.1111111111111111,
              "#46039f"
             ],
             [
              0.2222222222222222,
              "#7201a8"
             ],
             [
              0.3333333333333333,
              "#9c179e"
             ],
             [
              0.4444444444444444,
              "#bd3786"
             ],
             [
              0.5555555555555556,
              "#d8576b"
             ],
             [
              0.6666666666666666,
              "#ed7953"
             ],
             [
              0.7777777777777778,
              "#fb9f3a"
             ],
             [
              0.8888888888888888,
              "#fdca26"
             ],
             [
              1,
              "#f0f921"
             ]
            ],
            "type": "heatmap"
           }
          ],
          "heatmapgl": [
           {
            "colorbar": {
             "outlinewidth": 0,
             "ticks": ""
            },
            "colorscale": [
             [
              0,
              "#0d0887"
             ],
             [
              0.1111111111111111,
              "#46039f"
             ],
             [
              0.2222222222222222,
              "#7201a8"
             ],
             [
              0.3333333333333333,
              "#9c179e"
             ],
             [
              0.4444444444444444,
              "#bd3786"
             ],
             [
              0.5555555555555556,
              "#d8576b"
             ],
             [
              0.6666666666666666,
              "#ed7953"
             ],
             [
              0.7777777777777778,
              "#fb9f3a"
             ],
             [
              0.8888888888888888,
              "#fdca26"
             ],
             [
              1,
              "#f0f921"
             ]
            ],
            "type": "heatmapgl"
           }
          ],
          "histogram": [
           {
            "marker": {
             "pattern": {
              "fillmode": "overlay",
              "size": 10,
              "solidity": 0.2
             }
            },
            "type": "histogram"
           }
          ],
          "histogram2d": [
           {
            "colorbar": {
             "outlinewidth": 0,
             "ticks": ""
            },
            "colorscale": [
             [
              0,
              "#0d0887"
             ],
             [
              0.1111111111111111,
              "#46039f"
             ],
             [
              0.2222222222222222,
              "#7201a8"
             ],
             [
              0.3333333333333333,
              "#9c179e"
             ],
             [
              0.4444444444444444,
              "#bd3786"
             ],
             [
              0.5555555555555556,
              "#d8576b"
             ],
             [
              0.6666666666666666,
              "#ed7953"
             ],
             [
              0.7777777777777778,
              "#fb9f3a"
             ],
             [
              0.8888888888888888,
              "#fdca26"
             ],
             [
              1,
              "#f0f921"
             ]
            ],
            "type": "histogram2d"
           }
          ],
          "histogram2dcontour": [
           {
            "colorbar": {
             "outlinewidth": 0,
             "ticks": ""
            },
            "colorscale": [
             [
              0,
              "#0d0887"
             ],
             [
              0.1111111111111111,
              "#46039f"
             ],
             [
              0.2222222222222222,
              "#7201a8"
             ],
             [
              0.3333333333333333,
              "#9c179e"
             ],
             [
              0.4444444444444444,
              "#bd3786"
             ],
             [
              0.5555555555555556,
              "#d8576b"
             ],
             [
              0.6666666666666666,
              "#ed7953"
             ],
             [
              0.7777777777777778,
              "#fb9f3a"
             ],
             [
              0.8888888888888888,
              "#fdca26"
             ],
             [
              1,
              "#f0f921"
             ]
            ],
            "type": "histogram2dcontour"
           }
          ],
          "mesh3d": [
           {
            "colorbar": {
             "outlinewidth": 0,
             "ticks": ""
            },
            "type": "mesh3d"
           }
          ],
          "parcoords": [
           {
            "line": {
             "colorbar": {
              "outlinewidth": 0,
              "ticks": ""
             }
            },
            "type": "parcoords"
           }
          ],
          "pie": [
           {
            "automargin": true,
            "type": "pie"
           }
          ],
          "scatter": [
           {
            "fillpattern": {
             "fillmode": "overlay",
             "size": 10,
             "solidity": 0.2
            },
            "type": "scatter"
           }
          ],
          "scatter3d": [
           {
            "line": {
             "colorbar": {
              "outlinewidth": 0,
              "ticks": ""
             }
            },
            "marker": {
             "colorbar": {
              "outlinewidth": 0,
              "ticks": ""
             }
            },
            "type": "scatter3d"
           }
          ],
          "scattercarpet": [
           {
            "marker": {
             "colorbar": {
              "outlinewidth": 0,
              "ticks": ""
             }
            },
            "type": "scattercarpet"
           }
          ],
          "scattergeo": [
           {
            "marker": {
             "colorbar": {
              "outlinewidth": 0,
              "ticks": ""
             }
            },
            "type": "scattergeo"
           }
          ],
          "scattergl": [
           {
            "marker": {
             "colorbar": {
              "outlinewidth": 0,
              "ticks": ""
             }
            },
            "type": "scattergl"
           }
          ],
          "scattermapbox": [
           {
            "marker": {
             "colorbar": {
              "outlinewidth": 0,
              "ticks": ""
             }
            },
            "type": "scattermapbox"
           }
          ],
          "scatterpolar": [
           {
            "marker": {
             "colorbar": {
              "outlinewidth": 0,
              "ticks": ""
             }
            },
            "type": "scatterpolar"
           }
          ],
          "scatterpolargl": [
           {
            "marker": {
             "colorbar": {
              "outlinewidth": 0,
              "ticks": ""
             }
            },
            "type": "scatterpolargl"
           }
          ],
          "scatterternary": [
           {
            "marker": {
             "colorbar": {
              "outlinewidth": 0,
              "ticks": ""
             }
            },
            "type": "scatterternary"
           }
          ],
          "surface": [
           {
            "colorbar": {
             "outlinewidth": 0,
             "ticks": ""
            },
            "colorscale": [
             [
              0,
              "#0d0887"
             ],
             [
              0.1111111111111111,
              "#46039f"
             ],
             [
              0.2222222222222222,
              "#7201a8"
             ],
             [
              0.3333333333333333,
              "#9c179e"
             ],
             [
              0.4444444444444444,
              "#bd3786"
             ],
             [
              0.5555555555555556,
              "#d8576b"
             ],
             [
              0.6666666666666666,
              "#ed7953"
             ],
             [
              0.7777777777777778,
              "#fb9f3a"
             ],
             [
              0.8888888888888888,
              "#fdca26"
             ],
             [
              1,
              "#f0f921"
             ]
            ],
            "type": "surface"
           }
          ],
          "table": [
           {
            "cells": {
             "fill": {
              "color": "#EBF0F8"
             },
             "line": {
              "color": "white"
             }
            },
            "header": {
             "fill": {
              "color": "#C8D4E3"
             },
             "line": {
              "color": "white"
             }
            },
            "type": "table"
           }
          ]
         },
         "layout": {
          "annotationdefaults": {
           "arrowcolor": "#2a3f5f",
           "arrowhead": 0,
           "arrowwidth": 1
          },
          "autotypenumbers": "strict",
          "coloraxis": {
           "colorbar": {
            "outlinewidth": 0,
            "ticks": ""
           }
          },
          "colorscale": {
           "diverging": [
            [
             0,
             "#8e0152"
            ],
            [
             0.1,
             "#c51b7d"
            ],
            [
             0.2,
             "#de77ae"
            ],
            [
             0.3,
             "#f1b6da"
            ],
            [
             0.4,
             "#fde0ef"
            ],
            [
             0.5,
             "#f7f7f7"
            ],
            [
             0.6,
             "#e6f5d0"
            ],
            [
             0.7,
             "#b8e186"
            ],
            [
             0.8,
             "#7fbc41"
            ],
            [
             0.9,
             "#4d9221"
            ],
            [
             1,
             "#276419"
            ]
           ],
           "sequential": [
            [
             0,
             "#0d0887"
            ],
            [
             0.1111111111111111,
             "#46039f"
            ],
            [
             0.2222222222222222,
             "#7201a8"
            ],
            [
             0.3333333333333333,
             "#9c179e"
            ],
            [
             0.4444444444444444,
             "#bd3786"
            ],
            [
             0.5555555555555556,
             "#d8576b"
            ],
            [
             0.6666666666666666,
             "#ed7953"
            ],
            [
             0.7777777777777778,
             "#fb9f3a"
            ],
            [
             0.8888888888888888,
             "#fdca26"
            ],
            [
             1,
             "#f0f921"
            ]
           ],
           "sequentialminus": [
            [
             0,
             "#0d0887"
            ],
            [
             0.1111111111111111,
             "#46039f"
            ],
            [
             0.2222222222222222,
             "#7201a8"
            ],
            [
             0.3333333333333333,
             "#9c179e"
            ],
            [
             0.4444444444444444,
             "#bd3786"
            ],
            [
             0.5555555555555556,
             "#d8576b"
            ],
            [
             0.6666666666666666,
             "#ed7953"
            ],
            [
             0.7777777777777778,
             "#fb9f3a"
            ],
            [
             0.8888888888888888,
             "#fdca26"
            ],
            [
             1,
             "#f0f921"
            ]
           ]
          },
          "colorway": [
           "#636efa",
           "#EF553B",
           "#00cc96",
           "#ab63fa",
           "#FFA15A",
           "#19d3f3",
           "#FF6692",
           "#B6E880",
           "#FF97FF",
           "#FECB52"
          ],
          "font": {
           "color": "#2a3f5f"
          },
          "geo": {
           "bgcolor": "white",
           "lakecolor": "white",
           "landcolor": "#E5ECF6",
           "showlakes": true,
           "showland": true,
           "subunitcolor": "white"
          },
          "hoverlabel": {
           "align": "left"
          },
          "hovermode": "closest",
          "mapbox": {
           "style": "light"
          },
          "paper_bgcolor": "white",
          "plot_bgcolor": "#E5ECF6",
          "polar": {
           "angularaxis": {
            "gridcolor": "white",
            "linecolor": "white",
            "ticks": ""
           },
           "bgcolor": "#E5ECF6",
           "radialaxis": {
            "gridcolor": "white",
            "linecolor": "white",
            "ticks": ""
           }
          },
          "scene": {
           "xaxis": {
            "backgroundcolor": "#E5ECF6",
            "gridcolor": "white",
            "gridwidth": 2,
            "linecolor": "white",
            "showbackground": true,
            "ticks": "",
            "zerolinecolor": "white"
           },
           "yaxis": {
            "backgroundcolor": "#E5ECF6",
            "gridcolor": "white",
            "gridwidth": 2,
            "linecolor": "white",
            "showbackground": true,
            "ticks": "",
            "zerolinecolor": "white"
           },
           "zaxis": {
            "backgroundcolor": "#E5ECF6",
            "gridcolor": "white",
            "gridwidth": 2,
            "linecolor": "white",
            "showbackground": true,
            "ticks": "",
            "zerolinecolor": "white"
           }
          },
          "shapedefaults": {
           "line": {
            "color": "#2a3f5f"
           }
          },
          "ternary": {
           "aaxis": {
            "gridcolor": "white",
            "linecolor": "white",
            "ticks": ""
           },
           "baxis": {
            "gridcolor": "white",
            "linecolor": "white",
            "ticks": ""
           },
           "bgcolor": "#E5ECF6",
           "caxis": {
            "gridcolor": "white",
            "linecolor": "white",
            "ticks": ""
           }
          },
          "title": {
           "x": 0.05
          },
          "xaxis": {
           "automargin": true,
           "gridcolor": "white",
           "linecolor": "white",
           "ticks": "",
           "title": {
            "standoff": 15
           },
           "zerolinecolor": "white",
           "zerolinewidth": 2
          },
          "yaxis": {
           "automargin": true,
           "gridcolor": "white",
           "linecolor": "white",
           "ticks": "",
           "title": {
            "standoff": 15
           },
           "zerolinecolor": "white",
           "zerolinewidth": 2
          }
         }
        },
        "title": {
         "text": "Trip Patterns by Season and Journey Type"
        },
        "xaxis": {
         "anchor": "y",
         "domain": [
          0,
          0.18400000000000002
         ],
         "title": {
          "text": "Season"
         }
        },
        "xaxis2": {
         "anchor": "y2",
         "domain": [
          0.20400000000000001,
          0.388
         ],
         "matches": "x",
         "title": {
          "text": "Season"
         }
        },
        "xaxis3": {
         "anchor": "y3",
         "domain": [
          0.40800000000000003,
          0.5920000000000001
         ],
         "matches": "x",
         "title": {
          "text": "Season"
         }
        },
        "xaxis4": {
         "anchor": "y4",
         "domain": [
          0.6120000000000001,
          0.7960000000000002
         ],
         "matches": "x",
         "title": {
          "text": "Season"
         }
        },
        "xaxis5": {
         "anchor": "y5",
         "domain": [
          0.8160000000000001,
          1
         ],
         "matches": "x",
         "title": {
          "text": "Season"
         }
        },
        "yaxis": {
         "anchor": "x",
         "domain": [
          0,
          1
         ],
         "title": {
          "text": "VALUE"
         }
        },
        "yaxis2": {
         "anchor": "x2",
         "domain": [
          0,
          1
         ],
         "matches": "y",
         "showticklabels": false
        },
        "yaxis3": {
         "anchor": "x3",
         "domain": [
          0,
          1
         ],
         "matches": "y",
         "showticklabels": false
        },
        "yaxis4": {
         "anchor": "x4",
         "domain": [
          0,
          1
         ],
         "matches": "y",
         "showticklabels": false
        },
        "yaxis5": {
         "anchor": "x5",
         "domain": [
          0,
          1
         ],
         "matches": "y",
         "showticklabels": false
        }
       }
      }
     },
     "metadata": {},
     "output_type": "display_data"
    }
   ],
   "source": [
    "fig2 = px.box(\n",
    "    trips_df,\n",
    "    x='Season',\n",
    "    y='VALUE',\n",
    "    color='Domestic',\n",
    "    facet_col='Reason for Journey',\n",
    "    title='Trip Patterns by Season and Journey Type'\n",
    ")\n",
    "fig2.show()"
   ]
  },
  {
   "cell_type": "code",
   "execution_count": 39,
   "metadata": {},
   "outputs": [],
   "source": [
    "import plotly.graph_objects as go"
   ]
  },
  {
   "cell_type": "code",
   "execution_count": 40,
   "metadata": {},
   "outputs": [
    {
     "data": {
      "application/vnd.plotly.v1+json": {
       "config": {
        "plotlyServerURL": "https://plot.ly"
       },
       "data": [
        {
         "mode": "lines+markers",
         "name": "Domestic",
         "type": "scatter",
         "x": [
          "2000-01-01T00:00:00",
          "2000-01-01T00:00:00",
          "2000-01-01T00:00:00",
          "2000-01-01T00:00:00",
          "2000-01-01T00:00:00",
          "2000-04-01T00:00:00",
          "2000-04-01T00:00:00",
          "2000-04-01T00:00:00",
          "2000-04-01T00:00:00",
          "2000-04-01T00:00:00",
          "2000-07-01T00:00:00",
          "2000-07-01T00:00:00",
          "2000-07-01T00:00:00",
          "2000-07-01T00:00:00",
          "2000-07-01T00:00:00",
          "2000-10-01T00:00:00",
          "2000-10-01T00:00:00",
          "2000-10-01T00:00:00",
          "2000-10-01T00:00:00",
          "2000-10-01T00:00:00",
          "2001-01-01T00:00:00",
          "2001-01-01T00:00:00",
          "2001-01-01T00:00:00",
          "2001-01-01T00:00:00",
          "2001-01-01T00:00:00",
          "2001-04-01T00:00:00",
          "2001-04-01T00:00:00",
          "2001-04-01T00:00:00",
          "2001-04-01T00:00:00",
          "2001-04-01T00:00:00",
          "2001-07-01T00:00:00",
          "2001-07-01T00:00:00",
          "2001-07-01T00:00:00",
          "2001-07-01T00:00:00",
          "2001-07-01T00:00:00",
          "2001-10-01T00:00:00",
          "2001-10-01T00:00:00",
          "2001-10-01T00:00:00",
          "2001-10-01T00:00:00",
          "2001-10-01T00:00:00",
          "2002-01-01T00:00:00",
          "2002-01-01T00:00:00",
          "2002-01-01T00:00:00",
          "2002-01-01T00:00:00",
          "2002-01-01T00:00:00",
          "2002-04-01T00:00:00",
          "2002-04-01T00:00:00",
          "2002-04-01T00:00:00",
          "2002-04-01T00:00:00",
          "2002-04-01T00:00:00",
          "2002-07-01T00:00:00",
          "2002-07-01T00:00:00",
          "2002-07-01T00:00:00",
          "2002-07-01T00:00:00",
          "2002-07-01T00:00:00",
          "2002-10-01T00:00:00",
          "2002-10-01T00:00:00",
          "2002-10-01T00:00:00",
          "2002-10-01T00:00:00",
          "2002-10-01T00:00:00",
          "2003-01-01T00:00:00",
          "2003-01-01T00:00:00",
          "2003-01-01T00:00:00",
          "2003-01-01T00:00:00",
          "2003-01-01T00:00:00",
          "2003-04-01T00:00:00",
          "2003-04-01T00:00:00",
          "2003-04-01T00:00:00",
          "2003-04-01T00:00:00",
          "2003-04-01T00:00:00",
          "2003-07-01T00:00:00",
          "2003-07-01T00:00:00",
          "2003-07-01T00:00:00",
          "2003-07-01T00:00:00",
          "2003-07-01T00:00:00",
          "2003-10-01T00:00:00",
          "2003-10-01T00:00:00",
          "2003-10-01T00:00:00",
          "2003-10-01T00:00:00",
          "2003-10-01T00:00:00",
          "2004-01-01T00:00:00",
          "2004-01-01T00:00:00",
          "2004-01-01T00:00:00",
          "2004-01-01T00:00:00",
          "2004-01-01T00:00:00",
          "2004-04-01T00:00:00",
          "2004-04-01T00:00:00",
          "2004-04-01T00:00:00",
          "2004-04-01T00:00:00",
          "2004-04-01T00:00:00",
          "2004-07-01T00:00:00",
          "2004-07-01T00:00:00",
          "2004-07-01T00:00:00",
          "2004-07-01T00:00:00",
          "2004-07-01T00:00:00",
          "2004-10-01T00:00:00",
          "2004-10-01T00:00:00",
          "2004-10-01T00:00:00",
          "2004-10-01T00:00:00",
          "2004-10-01T00:00:00",
          "2005-01-01T00:00:00",
          "2005-01-01T00:00:00",
          "2005-01-01T00:00:00",
          "2005-01-01T00:00:00",
          "2005-01-01T00:00:00",
          "2005-04-01T00:00:00",
          "2005-04-01T00:00:00",
          "2005-04-01T00:00:00",
          "2005-04-01T00:00:00",
          "2005-04-01T00:00:00",
          "2005-07-01T00:00:00",
          "2005-07-01T00:00:00",
          "2005-07-01T00:00:00",
          "2005-07-01T00:00:00",
          "2005-07-01T00:00:00",
          "2005-10-01T00:00:00",
          "2005-10-01T00:00:00",
          "2005-10-01T00:00:00",
          "2005-10-01T00:00:00",
          "2005-10-01T00:00:00",
          "2006-01-01T00:00:00",
          "2006-01-01T00:00:00",
          "2006-01-01T00:00:00",
          "2006-01-01T00:00:00",
          "2006-01-01T00:00:00",
          "2006-04-01T00:00:00",
          "2006-04-01T00:00:00",
          "2006-04-01T00:00:00",
          "2006-04-01T00:00:00",
          "2006-04-01T00:00:00",
          "2006-07-01T00:00:00",
          "2006-07-01T00:00:00",
          "2006-07-01T00:00:00",
          "2006-07-01T00:00:00",
          "2006-07-01T00:00:00",
          "2006-10-01T00:00:00",
          "2006-10-01T00:00:00",
          "2006-10-01T00:00:00",
          "2006-10-01T00:00:00",
          "2006-10-01T00:00:00",
          "2007-01-01T00:00:00",
          "2007-01-01T00:00:00",
          "2007-01-01T00:00:00",
          "2007-01-01T00:00:00",
          "2007-01-01T00:00:00",
          "2007-04-01T00:00:00",
          "2007-04-01T00:00:00",
          "2007-04-01T00:00:00",
          "2007-04-01T00:00:00",
          "2007-04-01T00:00:00",
          "2007-07-01T00:00:00",
          "2007-07-01T00:00:00",
          "2007-07-01T00:00:00",
          "2007-07-01T00:00:00",
          "2007-07-01T00:00:00",
          "2007-10-01T00:00:00",
          "2007-10-01T00:00:00",
          "2007-10-01T00:00:00",
          "2007-10-01T00:00:00",
          "2007-10-01T00:00:00",
          "2008-01-01T00:00:00",
          "2008-01-01T00:00:00",
          "2008-01-01T00:00:00",
          "2008-01-01T00:00:00",
          "2008-01-01T00:00:00",
          "2008-04-01T00:00:00",
          "2008-04-01T00:00:00",
          "2008-04-01T00:00:00",
          "2008-04-01T00:00:00",
          "2008-04-01T00:00:00",
          "2008-07-01T00:00:00",
          "2008-07-01T00:00:00",
          "2008-07-01T00:00:00",
          "2008-07-01T00:00:00",
          "2008-07-01T00:00:00",
          "2008-10-01T00:00:00",
          "2008-10-01T00:00:00",
          "2008-10-01T00:00:00",
          "2008-10-01T00:00:00",
          "2008-10-01T00:00:00",
          "2009-01-01T00:00:00",
          "2009-01-01T00:00:00",
          "2009-01-01T00:00:00",
          "2009-01-01T00:00:00",
          "2009-01-01T00:00:00",
          "2009-04-01T00:00:00",
          "2009-04-01T00:00:00",
          "2009-04-01T00:00:00",
          "2009-04-01T00:00:00",
          "2009-04-01T00:00:00",
          "2009-07-01T00:00:00",
          "2009-07-01T00:00:00",
          "2009-07-01T00:00:00",
          "2009-07-01T00:00:00",
          "2009-07-01T00:00:00",
          "2009-10-01T00:00:00",
          "2009-10-01T00:00:00",
          "2009-10-01T00:00:00",
          "2009-10-01T00:00:00",
          "2009-10-01T00:00:00",
          "2012-01-01T00:00:00",
          "2012-01-01T00:00:00",
          "2012-01-01T00:00:00",
          "2012-01-01T00:00:00",
          "2012-01-01T00:00:00",
          "2012-04-01T00:00:00",
          "2012-04-01T00:00:00",
          "2012-04-01T00:00:00",
          "2012-04-01T00:00:00",
          "2012-04-01T00:00:00",
          "2012-07-01T00:00:00",
          "2012-07-01T00:00:00",
          "2012-07-01T00:00:00",
          "2012-07-01T00:00:00",
          "2012-07-01T00:00:00",
          "2012-10-01T00:00:00",
          "2012-10-01T00:00:00",
          "2012-10-01T00:00:00",
          "2012-10-01T00:00:00",
          "2012-10-01T00:00:00",
          "2013-01-01T00:00:00",
          "2013-01-01T00:00:00",
          "2013-01-01T00:00:00",
          "2013-01-01T00:00:00",
          "2013-01-01T00:00:00",
          "2013-04-01T00:00:00",
          "2013-04-01T00:00:00",
          "2013-04-01T00:00:00",
          "2013-04-01T00:00:00",
          "2013-04-01T00:00:00",
          "2013-07-01T00:00:00",
          "2013-07-01T00:00:00",
          "2013-07-01T00:00:00",
          "2013-07-01T00:00:00",
          "2013-07-01T00:00:00",
          "2013-10-01T00:00:00",
          "2013-10-01T00:00:00",
          "2013-10-01T00:00:00",
          "2013-10-01T00:00:00",
          "2013-10-01T00:00:00",
          "2014-01-01T00:00:00",
          "2014-01-01T00:00:00",
          "2014-01-01T00:00:00",
          "2014-01-01T00:00:00",
          "2014-01-01T00:00:00",
          "2014-04-01T00:00:00",
          "2014-04-01T00:00:00",
          "2014-04-01T00:00:00",
          "2014-04-01T00:00:00",
          "2014-04-01T00:00:00",
          "2014-07-01T00:00:00",
          "2014-07-01T00:00:00",
          "2014-07-01T00:00:00",
          "2014-07-01T00:00:00",
          "2014-07-01T00:00:00",
          "2014-10-01T00:00:00",
          "2014-10-01T00:00:00",
          "2014-10-01T00:00:00",
          "2014-10-01T00:00:00",
          "2014-10-01T00:00:00",
          "2015-01-01T00:00:00",
          "2015-01-01T00:00:00",
          "2015-01-01T00:00:00",
          "2015-01-01T00:00:00",
          "2015-01-01T00:00:00",
          "2015-04-01T00:00:00",
          "2015-04-01T00:00:00",
          "2015-04-01T00:00:00",
          "2015-04-01T00:00:00",
          "2015-04-01T00:00:00",
          "2015-07-01T00:00:00",
          "2015-07-01T00:00:00",
          "2015-07-01T00:00:00",
          "2015-07-01T00:00:00",
          "2015-07-01T00:00:00",
          "2015-10-01T00:00:00",
          "2015-10-01T00:00:00",
          "2015-10-01T00:00:00",
          "2015-10-01T00:00:00",
          "2015-10-01T00:00:00",
          "2016-01-01T00:00:00",
          "2016-01-01T00:00:00",
          "2016-01-01T00:00:00",
          "2016-01-01T00:00:00",
          "2016-01-01T00:00:00",
          "2016-04-01T00:00:00",
          "2016-04-01T00:00:00",
          "2016-04-01T00:00:00",
          "2016-04-01T00:00:00",
          "2016-04-01T00:00:00",
          "2016-07-01T00:00:00",
          "2016-07-01T00:00:00",
          "2016-07-01T00:00:00",
          "2016-07-01T00:00:00",
          "2016-07-01T00:00:00",
          "2016-10-01T00:00:00",
          "2016-10-01T00:00:00",
          "2016-10-01T00:00:00",
          "2016-10-01T00:00:00",
          "2016-10-01T00:00:00",
          "2017-01-01T00:00:00",
          "2017-01-01T00:00:00",
          "2017-01-01T00:00:00",
          "2017-01-01T00:00:00",
          "2017-01-01T00:00:00",
          "2017-04-01T00:00:00",
          "2017-04-01T00:00:00",
          "2017-04-01T00:00:00",
          "2017-04-01T00:00:00",
          "2017-04-01T00:00:00",
          "2017-07-01T00:00:00",
          "2017-07-01T00:00:00",
          "2017-07-01T00:00:00",
          "2017-07-01T00:00:00",
          "2017-07-01T00:00:00",
          "2017-10-01T00:00:00",
          "2017-10-01T00:00:00",
          "2017-10-01T00:00:00",
          "2017-10-01T00:00:00",
          "2017-10-01T00:00:00",
          "2018-01-01T00:00:00",
          "2018-01-01T00:00:00",
          "2018-01-01T00:00:00",
          "2018-01-01T00:00:00",
          "2018-01-01T00:00:00",
          "2018-04-01T00:00:00",
          "2018-04-01T00:00:00",
          "2018-04-01T00:00:00",
          "2018-04-01T00:00:00",
          "2018-04-01T00:00:00",
          "2018-07-01T00:00:00",
          "2018-07-01T00:00:00",
          "2018-07-01T00:00:00",
          "2018-07-01T00:00:00",
          "2018-07-01T00:00:00",
          "2018-10-01T00:00:00",
          "2018-10-01T00:00:00",
          "2018-10-01T00:00:00",
          "2018-10-01T00:00:00",
          "2018-10-01T00:00:00",
          "2019-01-01T00:00:00",
          "2019-01-01T00:00:00",
          "2019-01-01T00:00:00",
          "2019-01-01T00:00:00",
          "2019-01-01T00:00:00",
          "2019-04-01T00:00:00",
          "2019-04-01T00:00:00",
          "2019-04-01T00:00:00",
          "2019-04-01T00:00:00",
          "2019-04-01T00:00:00",
          "2019-07-01T00:00:00",
          "2019-07-01T00:00:00",
          "2019-07-01T00:00:00",
          "2019-07-01T00:00:00",
          "2019-07-01T00:00:00",
          "2019-10-01T00:00:00",
          "2019-10-01T00:00:00",
          "2019-10-01T00:00:00",
          "2019-10-01T00:00:00",
          "2019-10-01T00:00:00",
          "2020-01-01T00:00:00",
          "2020-01-01T00:00:00",
          "2020-01-01T00:00:00",
          "2020-01-01T00:00:00",
          "2020-01-01T00:00:00",
          "2020-04-01T00:00:00",
          "2020-04-01T00:00:00",
          "2020-04-01T00:00:00",
          "2020-04-01T00:00:00",
          "2020-04-01T00:00:00",
          "2020-07-01T00:00:00",
          "2020-07-01T00:00:00",
          "2020-07-01T00:00:00",
          "2020-07-01T00:00:00",
          "2020-07-01T00:00:00",
          "2020-10-01T00:00:00",
          "2020-10-01T00:00:00",
          "2020-10-01T00:00:00",
          "2020-10-01T00:00:00",
          "2020-10-01T00:00:00",
          "2021-01-01T00:00:00",
          "2021-01-01T00:00:00",
          "2021-01-01T00:00:00",
          "2021-01-01T00:00:00",
          "2021-01-01T00:00:00",
          "2021-04-01T00:00:00",
          "2021-04-01T00:00:00",
          "2021-04-01T00:00:00",
          "2021-04-01T00:00:00",
          "2021-04-01T00:00:00",
          "2021-07-01T00:00:00",
          "2021-07-01T00:00:00",
          "2021-07-01T00:00:00",
          "2021-07-01T00:00:00",
          "2021-07-01T00:00:00",
          "2021-10-01T00:00:00",
          "2021-10-01T00:00:00",
          "2021-10-01T00:00:00",
          "2021-10-01T00:00:00",
          "2021-10-01T00:00:00",
          "2022-01-01T00:00:00",
          "2022-01-01T00:00:00",
          "2022-01-01T00:00:00",
          "2022-01-01T00:00:00",
          "2022-01-01T00:00:00",
          "2022-04-01T00:00:00",
          "2022-04-01T00:00:00",
          "2022-04-01T00:00:00",
          "2022-04-01T00:00:00",
          "2022-04-01T00:00:00",
          "2022-07-01T00:00:00",
          "2022-07-01T00:00:00",
          "2022-07-01T00:00:00",
          "2022-07-01T00:00:00",
          "2022-07-01T00:00:00",
          "2022-10-01T00:00:00",
          "2022-10-01T00:00:00",
          "2022-10-01T00:00:00",
          "2022-10-01T00:00:00",
          "2022-10-01T00:00:00",
          "2023-01-01T00:00:00",
          "2023-01-01T00:00:00",
          "2023-01-01T00:00:00",
          "2023-01-01T00:00:00",
          "2023-01-01T00:00:00",
          "2023-04-01T00:00:00",
          "2023-04-01T00:00:00",
          "2023-04-01T00:00:00",
          "2023-04-01T00:00:00",
          "2023-04-01T00:00:00",
          "2023-07-01T00:00:00",
          "2023-07-01T00:00:00",
          "2023-07-01T00:00:00",
          "2023-07-01T00:00:00",
          "2023-07-01T00:00:00",
          "2023-10-01T00:00:00",
          "2023-10-01T00:00:00",
          "2023-10-01T00:00:00",
          "2023-10-01T00:00:00",
          "2023-10-01T00:00:00",
          "2024-01-01T00:00:00",
          "2024-01-01T00:00:00",
          "2024-01-01T00:00:00",
          "2024-01-01T00:00:00",
          "2024-01-01T00:00:00",
          "2024-04-01T00:00:00",
          "2024-04-01T00:00:00",
          "2024-04-01T00:00:00",
          "2024-04-01T00:00:00",
          "2024-04-01T00:00:00"
         ],
         "y": [
          114,
          59,
          27,
          17,
          11,
          156,
          97,
          25,
          14,
          20,
          286,
          217,
          23,
          28,
          18,
          151,
          74,
          35,
          23,
          20,
          148,
          73,
          42,
          15,
          18,
          159,
          91,
          29,
          18,
          21,
          374,
          280,
          36,
          26,
          32,
          200,
          105,
          43,
          28,
          23,
          164,
          81,
          40,
          23,
          20,
          182,
          106,
          36,
          17,
          25,
          299,
          219,
          27,
          26,
          26,
          205,
          96,
          50,
          32,
          27,
          184,
          96,
          36,
          20,
          33,
          201,
          112,
          37,
          21,
          31,
          361,
          264,
          36,
          29,
          32,
          225,
          104,
          49,
          44,
          28,
          197,
          98,
          45,
          27,
          27,
          235,
          130,
          51,
          27,
          27,
          400,
          289,
          34,
          32,
          44,
          206,
          109,
          32,
          35,
          31,
          188,
          92,
          43,
          27,
          26,
          274.6,
          161.1,
          51.9,
          32.3,
          29.3,
          442.4,
          320.7,
          38.4,
          34.5,
          48.8,
          259.8,
          133.5,
          55.1,
          48.7,
          22.5,
          217.4,
          119.9,
          49,
          26.6,
          21.9,
          288.1,
          159.3,
          69.1,
          33.1,
          26.6,
          541.7,
          409.1,
          53.2,
          52.6,
          26.8,
          351.1,
          184.4,
          56.6,
          92,
          18.1,
          288.9,
          166.8,
          53.1,
          49.8,
          19.2,
          339.7,
          216,
          45.7,
          52.9,
          25.1,
          594.6,
          460.3,
          32.1,
          65.2,
          37,
          327.8,
          185,
          63.2,
          51.8,
          27.8,
          284.2,
          181,
          41.7,
          42.7,
          18.8,
          322.2,
          214.4,
          35.7,
          42,
          30.1,
          592.8,
          446.3,
          35.2,
          66.5,
          44.8,
          346.8,
          186.2,
          50.2,
          64.5,
          45.9,
          256.3,
          137.8,
          37.3,
          37.6,
          43.6,
          314.4,
          197.9,
          24.4,
          33.8,
          58.3,
          501.2,
          352.7,
          30.5,
          43.7,
          74.3,
          317.9,
          154.9,
          44,
          56,
          63,
          243.8,
          132.7,
          19.6,
          46.1,
          45.4,
          352.2,
          180.5,
          25.6,
          73.2,
          72.9,
          632.1,
          415.6,
          18.2,
          93.1,
          105.2,
          286.1,
          147.4,
          17.1,
          77.2,
          44.5,
          239.5,
          122.9,
          20.4,
          57.9,
          38.3,
          334.8,
          189,
          23.5,
          71.8,
          50.5,
          658.5,
          483.6,
          13.5,
          79.7,
          81.8,
          300.2,
          151.7,
          26.8,
          75.5,
          46.2,
          244,
          112.1,
          28.6,
          56.7,
          46.6,
          402.5,
          233.5,
          25.4,
          75,
          68.6,
          693.9,
          484,
          28.7,
          105.1,
          76.1,
          373,
          163.1,
          27.6,
          90.2,
          92.2,
          269.1,
          138.3,
          27.3,
          58.3,
          45.2,
          393.6,
          233.9,
          30.5,
          64.6,
          64.6,
          701.9,
          503.9,
          11.4,
          98.5,
          88.2,
          360.6,
          194.3,
          28.8,
          75.1,
          62.4,
          331.1,
          195.5,
          25.3,
          64.7,
          45.6,
          370,
          227.9,
          31.6,
          54.1,
          56.4,
          699.4,
          488.6,
          13.3,
          93.7,
          103.8,
          397.2,
          223.8,
          36.1,
          84.5,
          52.9,
          352.9,
          189.7,
          32.7,
          83.2,
          47.3,
          456,
          265.1,
          28.5,
          72.3,
          90.1,
          664.4,
          455.7,
          20.9,
          109.7,
          78,
          405.7,
          218.7,
          41.1,
          87.9,
          58,
          336.2,
          201.1,
          30.7,
          61.6,
          42.7,
          495.5,
          283.9,
          37.3,
          75.8,
          98.4,
          728.3,
          503.5,
          21,
          112.1,
          91.6,
          446,
          244,
          27.9,
          103.3,
          70.8,
          361.9,
          211.5,
          26.2,
          70.3,
          54,
          501.7,
          302.8,
          35.5,
          78.3,
          85.2,
          824.9,
          555.6,
          23.6,
          132,
          113.8,
          458.1,
          266,
          39.6,
          91.3,
          61.2,
          360,
          209,
          35,
          54,
          63,
          28,
          222.8,
          222.8,
          222.8,
          222.8,
          994,
          843,
          12,
          122,
          17,
          172,
          73,
          11,
          46,
          42,
          34,
          4,
          4,
          13,
          13,
          166,
          113,
          6,
          32,
          15,
          776,
          680,
          11,
          67,
          18,
          315,
          202,
          19,
          65,
          29,
          471,
          292,
          18,
          83,
          78,
          762,
          482,
          81,
          117,
          83,
          1120,
          808,
          38,
          155,
          120,
          577,
          277,
          35,
          150,
          115,
          517,
          271,
          44,
          148,
          55,
          781,
          460,
          43,
          156,
          122,
          1085,
          742,
          41,
          225,
          78,
          739,
          442,
          56,
          178,
          63,
          576,
          327,
          39,
          150,
          59,
          955,
          596,
          70,
          175,
          113
         ]
        },
        {
         "mode": "lines+markers",
         "name": "Outbound",
         "type": "scatter",
         "x": [
          "2000-01-01T00:00:00",
          "2000-01-01T00:00:00",
          "2000-01-01T00:00:00",
          "2000-01-01T00:00:00",
          "2000-01-01T00:00:00",
          "2000-04-01T00:00:00",
          "2000-04-01T00:00:00",
          "2000-04-01T00:00:00",
          "2000-04-01T00:00:00",
          "2000-04-01T00:00:00",
          "2000-07-01T00:00:00",
          "2000-07-01T00:00:00",
          "2000-07-01T00:00:00",
          "2000-07-01T00:00:00",
          "2000-07-01T00:00:00",
          "2000-10-01T00:00:00",
          "2000-10-01T00:00:00",
          "2000-10-01T00:00:00",
          "2000-10-01T00:00:00",
          "2000-10-01T00:00:00",
          "2001-01-01T00:00:00",
          "2001-01-01T00:00:00",
          "2001-01-01T00:00:00",
          "2001-01-01T00:00:00",
          "2001-01-01T00:00:00",
          "2001-04-01T00:00:00",
          "2001-04-01T00:00:00",
          "2001-04-01T00:00:00",
          "2001-04-01T00:00:00",
          "2001-04-01T00:00:00",
          "2001-07-01T00:00:00",
          "2001-07-01T00:00:00",
          "2001-07-01T00:00:00",
          "2001-07-01T00:00:00",
          "2001-07-01T00:00:00",
          "2001-10-01T00:00:00",
          "2001-10-01T00:00:00",
          "2001-10-01T00:00:00",
          "2001-10-01T00:00:00",
          "2001-10-01T00:00:00",
          "2002-01-01T00:00:00",
          "2002-01-01T00:00:00",
          "2002-01-01T00:00:00",
          "2002-01-01T00:00:00",
          "2002-01-01T00:00:00",
          "2002-04-01T00:00:00",
          "2002-04-01T00:00:00",
          "2002-04-01T00:00:00",
          "2002-04-01T00:00:00",
          "2002-04-01T00:00:00",
          "2002-07-01T00:00:00",
          "2002-07-01T00:00:00",
          "2002-07-01T00:00:00",
          "2002-07-01T00:00:00",
          "2002-07-01T00:00:00",
          "2002-10-01T00:00:00",
          "2002-10-01T00:00:00",
          "2002-10-01T00:00:00",
          "2002-10-01T00:00:00",
          "2002-10-01T00:00:00",
          "2003-01-01T00:00:00",
          "2003-01-01T00:00:00",
          "2003-01-01T00:00:00",
          "2003-01-01T00:00:00",
          "2003-01-01T00:00:00",
          "2003-04-01T00:00:00",
          "2003-04-01T00:00:00",
          "2003-04-01T00:00:00",
          "2003-04-01T00:00:00",
          "2003-04-01T00:00:00",
          "2003-07-01T00:00:00",
          "2003-07-01T00:00:00",
          "2003-07-01T00:00:00",
          "2003-07-01T00:00:00",
          "2003-07-01T00:00:00",
          "2003-10-01T00:00:00",
          "2003-10-01T00:00:00",
          "2003-10-01T00:00:00",
          "2003-10-01T00:00:00",
          "2003-10-01T00:00:00",
          "2004-01-01T00:00:00",
          "2004-01-01T00:00:00",
          "2004-01-01T00:00:00",
          "2004-01-01T00:00:00",
          "2004-01-01T00:00:00",
          "2004-04-01T00:00:00",
          "2004-04-01T00:00:00",
          "2004-04-01T00:00:00",
          "2004-04-01T00:00:00",
          "2004-04-01T00:00:00",
          "2004-07-01T00:00:00",
          "2004-07-01T00:00:00",
          "2004-07-01T00:00:00",
          "2004-07-01T00:00:00",
          "2004-07-01T00:00:00",
          "2004-10-01T00:00:00",
          "2004-10-01T00:00:00",
          "2004-10-01T00:00:00",
          "2004-10-01T00:00:00",
          "2004-10-01T00:00:00",
          "2005-01-01T00:00:00",
          "2005-01-01T00:00:00",
          "2005-01-01T00:00:00",
          "2005-01-01T00:00:00",
          "2005-01-01T00:00:00",
          "2005-04-01T00:00:00",
          "2005-04-01T00:00:00",
          "2005-04-01T00:00:00",
          "2005-04-01T00:00:00",
          "2005-04-01T00:00:00",
          "2005-07-01T00:00:00",
          "2005-07-01T00:00:00",
          "2005-07-01T00:00:00",
          "2005-07-01T00:00:00",
          "2005-07-01T00:00:00",
          "2005-10-01T00:00:00",
          "2005-10-01T00:00:00",
          "2005-10-01T00:00:00",
          "2005-10-01T00:00:00",
          "2005-10-01T00:00:00",
          "2006-01-01T00:00:00",
          "2006-01-01T00:00:00",
          "2006-01-01T00:00:00",
          "2006-01-01T00:00:00",
          "2006-01-01T00:00:00",
          "2006-04-01T00:00:00",
          "2006-04-01T00:00:00",
          "2006-04-01T00:00:00",
          "2006-04-01T00:00:00",
          "2006-04-01T00:00:00",
          "2006-07-01T00:00:00",
          "2006-07-01T00:00:00",
          "2006-07-01T00:00:00",
          "2006-07-01T00:00:00",
          "2006-07-01T00:00:00",
          "2006-10-01T00:00:00",
          "2006-10-01T00:00:00",
          "2006-10-01T00:00:00",
          "2006-10-01T00:00:00",
          "2006-10-01T00:00:00",
          "2007-01-01T00:00:00",
          "2007-01-01T00:00:00",
          "2007-01-01T00:00:00",
          "2007-01-01T00:00:00",
          "2007-01-01T00:00:00",
          "2007-04-01T00:00:00",
          "2007-04-01T00:00:00",
          "2007-04-01T00:00:00",
          "2007-04-01T00:00:00",
          "2007-04-01T00:00:00",
          "2007-07-01T00:00:00",
          "2007-07-01T00:00:00",
          "2007-07-01T00:00:00",
          "2007-07-01T00:00:00",
          "2007-07-01T00:00:00",
          "2007-10-01T00:00:00",
          "2007-10-01T00:00:00",
          "2007-10-01T00:00:00",
          "2007-10-01T00:00:00",
          "2007-10-01T00:00:00",
          "2008-01-01T00:00:00",
          "2008-01-01T00:00:00",
          "2008-01-01T00:00:00",
          "2008-01-01T00:00:00",
          "2008-01-01T00:00:00",
          "2008-04-01T00:00:00",
          "2008-04-01T00:00:00",
          "2008-04-01T00:00:00",
          "2008-04-01T00:00:00",
          "2008-04-01T00:00:00",
          "2008-07-01T00:00:00",
          "2008-07-01T00:00:00",
          "2008-07-01T00:00:00",
          "2008-07-01T00:00:00",
          "2008-07-01T00:00:00",
          "2008-10-01T00:00:00",
          "2008-10-01T00:00:00",
          "2008-10-01T00:00:00",
          "2008-10-01T00:00:00",
          "2008-10-01T00:00:00",
          "2009-01-01T00:00:00",
          "2009-01-01T00:00:00",
          "2009-01-01T00:00:00",
          "2009-01-01T00:00:00",
          "2009-01-01T00:00:00",
          "2009-04-01T00:00:00",
          "2009-04-01T00:00:00",
          "2009-04-01T00:00:00",
          "2009-04-01T00:00:00",
          "2009-04-01T00:00:00",
          "2009-07-01T00:00:00",
          "2009-07-01T00:00:00",
          "2009-07-01T00:00:00",
          "2009-07-01T00:00:00",
          "2009-07-01T00:00:00",
          "2009-10-01T00:00:00",
          "2009-10-01T00:00:00",
          "2009-10-01T00:00:00",
          "2009-10-01T00:00:00",
          "2009-10-01T00:00:00",
          "2012-01-01T00:00:00",
          "2012-01-01T00:00:00",
          "2012-01-01T00:00:00",
          "2012-01-01T00:00:00",
          "2012-01-01T00:00:00",
          "2012-04-01T00:00:00",
          "2012-04-01T00:00:00",
          "2012-04-01T00:00:00",
          "2012-04-01T00:00:00",
          "2012-04-01T00:00:00",
          "2012-07-01T00:00:00",
          "2012-07-01T00:00:00",
          "2012-07-01T00:00:00",
          "2012-07-01T00:00:00",
          "2012-07-01T00:00:00",
          "2012-10-01T00:00:00",
          "2012-10-01T00:00:00",
          "2012-10-01T00:00:00",
          "2012-10-01T00:00:00",
          "2012-10-01T00:00:00",
          "2013-01-01T00:00:00",
          "2013-01-01T00:00:00",
          "2013-01-01T00:00:00",
          "2013-01-01T00:00:00",
          "2013-01-01T00:00:00",
          "2013-04-01T00:00:00",
          "2013-04-01T00:00:00",
          "2013-04-01T00:00:00",
          "2013-04-01T00:00:00",
          "2013-04-01T00:00:00",
          "2013-07-01T00:00:00",
          "2013-07-01T00:00:00",
          "2013-07-01T00:00:00",
          "2013-07-01T00:00:00",
          "2013-07-01T00:00:00",
          "2013-10-01T00:00:00",
          "2013-10-01T00:00:00",
          "2013-10-01T00:00:00",
          "2013-10-01T00:00:00",
          "2013-10-01T00:00:00",
          "2014-01-01T00:00:00",
          "2014-01-01T00:00:00",
          "2014-01-01T00:00:00",
          "2014-01-01T00:00:00",
          "2014-01-01T00:00:00",
          "2014-04-01T00:00:00",
          "2014-04-01T00:00:00",
          "2014-04-01T00:00:00",
          "2014-04-01T00:00:00",
          "2014-04-01T00:00:00",
          "2014-07-01T00:00:00",
          "2014-07-01T00:00:00",
          "2014-07-01T00:00:00",
          "2014-07-01T00:00:00",
          "2014-07-01T00:00:00",
          "2014-10-01T00:00:00",
          "2014-10-01T00:00:00",
          "2014-10-01T00:00:00",
          "2014-10-01T00:00:00",
          "2014-10-01T00:00:00",
          "2015-01-01T00:00:00",
          "2015-01-01T00:00:00",
          "2015-01-01T00:00:00",
          "2015-01-01T00:00:00",
          "2015-01-01T00:00:00",
          "2015-04-01T00:00:00",
          "2015-04-01T00:00:00",
          "2015-04-01T00:00:00",
          "2015-04-01T00:00:00",
          "2015-04-01T00:00:00",
          "2015-07-01T00:00:00",
          "2015-07-01T00:00:00",
          "2015-07-01T00:00:00",
          "2015-07-01T00:00:00",
          "2015-07-01T00:00:00",
          "2015-10-01T00:00:00",
          "2015-10-01T00:00:00",
          "2015-10-01T00:00:00",
          "2015-10-01T00:00:00",
          "2015-10-01T00:00:00",
          "2016-01-01T00:00:00",
          "2016-01-01T00:00:00",
          "2016-01-01T00:00:00",
          "2016-01-01T00:00:00",
          "2016-01-01T00:00:00",
          "2016-04-01T00:00:00",
          "2016-04-01T00:00:00",
          "2016-04-01T00:00:00",
          "2016-04-01T00:00:00",
          "2016-04-01T00:00:00",
          "2016-07-01T00:00:00",
          "2016-07-01T00:00:00",
          "2016-07-01T00:00:00",
          "2016-07-01T00:00:00",
          "2016-07-01T00:00:00",
          "2016-10-01T00:00:00",
          "2016-10-01T00:00:00",
          "2016-10-01T00:00:00",
          "2016-10-01T00:00:00",
          "2016-10-01T00:00:00",
          "2017-01-01T00:00:00",
          "2017-01-01T00:00:00",
          "2017-01-01T00:00:00",
          "2017-01-01T00:00:00",
          "2017-01-01T00:00:00",
          "2017-04-01T00:00:00",
          "2017-04-01T00:00:00",
          "2017-04-01T00:00:00",
          "2017-04-01T00:00:00",
          "2017-04-01T00:00:00",
          "2017-07-01T00:00:00",
          "2017-07-01T00:00:00",
          "2017-07-01T00:00:00",
          "2017-07-01T00:00:00",
          "2017-07-01T00:00:00",
          "2017-10-01T00:00:00",
          "2017-10-01T00:00:00",
          "2017-10-01T00:00:00",
          "2017-10-01T00:00:00",
          "2017-10-01T00:00:00",
          "2018-01-01T00:00:00",
          "2018-01-01T00:00:00",
          "2018-01-01T00:00:00",
          "2018-01-01T00:00:00",
          "2018-01-01T00:00:00",
          "2018-04-01T00:00:00",
          "2018-04-01T00:00:00",
          "2018-04-01T00:00:00",
          "2018-04-01T00:00:00",
          "2018-04-01T00:00:00",
          "2018-07-01T00:00:00",
          "2018-07-01T00:00:00",
          "2018-07-01T00:00:00",
          "2018-07-01T00:00:00",
          "2018-07-01T00:00:00",
          "2018-10-01T00:00:00",
          "2018-10-01T00:00:00",
          "2018-10-01T00:00:00",
          "2018-10-01T00:00:00",
          "2018-10-01T00:00:00",
          "2019-01-01T00:00:00",
          "2019-01-01T00:00:00",
          "2019-01-01T00:00:00",
          "2019-01-01T00:00:00",
          "2019-01-01T00:00:00",
          "2019-04-01T00:00:00",
          "2019-04-01T00:00:00",
          "2019-04-01T00:00:00",
          "2019-04-01T00:00:00",
          "2019-04-01T00:00:00",
          "2019-07-01T00:00:00",
          "2019-07-01T00:00:00",
          "2019-07-01T00:00:00",
          "2019-07-01T00:00:00",
          "2019-07-01T00:00:00",
          "2019-10-01T00:00:00",
          "2019-10-01T00:00:00",
          "2019-10-01T00:00:00",
          "2019-10-01T00:00:00",
          "2019-10-01T00:00:00",
          "2020-01-01T00:00:00",
          "2020-01-01T00:00:00",
          "2020-01-01T00:00:00",
          "2020-01-01T00:00:00",
          "2020-01-01T00:00:00",
          "2020-04-01T00:00:00",
          "2020-04-01T00:00:00",
          "2020-04-01T00:00:00",
          "2020-04-01T00:00:00",
          "2020-04-01T00:00:00",
          "2020-07-01T00:00:00",
          "2020-07-01T00:00:00",
          "2020-07-01T00:00:00",
          "2020-07-01T00:00:00",
          "2020-07-01T00:00:00",
          "2020-10-01T00:00:00",
          "2020-10-01T00:00:00",
          "2020-10-01T00:00:00",
          "2020-10-01T00:00:00",
          "2020-10-01T00:00:00",
          "2021-01-01T00:00:00",
          "2021-01-01T00:00:00",
          "2021-01-01T00:00:00",
          "2021-01-01T00:00:00",
          "2021-01-01T00:00:00",
          "2021-04-01T00:00:00",
          "2021-04-01T00:00:00",
          "2021-04-01T00:00:00",
          "2021-04-01T00:00:00",
          "2021-04-01T00:00:00",
          "2021-07-01T00:00:00",
          "2021-07-01T00:00:00",
          "2021-07-01T00:00:00",
          "2021-07-01T00:00:00",
          "2021-07-01T00:00:00",
          "2021-10-01T00:00:00",
          "2021-10-01T00:00:00",
          "2021-10-01T00:00:00",
          "2021-10-01T00:00:00",
          "2021-10-01T00:00:00",
          "2022-01-01T00:00:00",
          "2022-01-01T00:00:00",
          "2022-01-01T00:00:00",
          "2022-01-01T00:00:00",
          "2022-01-01T00:00:00",
          "2022-04-01T00:00:00",
          "2022-04-01T00:00:00",
          "2022-04-01T00:00:00",
          "2022-04-01T00:00:00",
          "2022-04-01T00:00:00",
          "2022-07-01T00:00:00",
          "2022-07-01T00:00:00",
          "2022-07-01T00:00:00",
          "2022-07-01T00:00:00",
          "2022-07-01T00:00:00",
          "2022-10-01T00:00:00",
          "2022-10-01T00:00:00",
          "2022-10-01T00:00:00",
          "2022-10-01T00:00:00",
          "2022-10-01T00:00:00",
          "2023-01-01T00:00:00",
          "2023-01-01T00:00:00",
          "2023-01-01T00:00:00",
          "2023-01-01T00:00:00",
          "2023-01-01T00:00:00",
          "2023-04-01T00:00:00",
          "2023-04-01T00:00:00",
          "2023-04-01T00:00:00",
          "2023-04-01T00:00:00",
          "2023-04-01T00:00:00",
          "2023-07-01T00:00:00",
          "2023-07-01T00:00:00",
          "2023-07-01T00:00:00",
          "2023-07-01T00:00:00",
          "2023-07-01T00:00:00",
          "2023-10-01T00:00:00",
          "2023-10-01T00:00:00",
          "2023-10-01T00:00:00",
          "2023-10-01T00:00:00",
          "2023-10-01T00:00:00",
          "2024-01-01T00:00:00",
          "2024-01-01T00:00:00",
          "2024-01-01T00:00:00",
          "2024-01-01T00:00:00",
          "2024-01-01T00:00:00",
          "2024-04-01T00:00:00",
          "2024-04-01T00:00:00",
          "2024-04-01T00:00:00",
          "2024-04-01T00:00:00",
          "2024-04-01T00:00:00"
         ],
         "y": [
          560,
          268,
          196,
          65,
          31,
          876,
          578,
          180,
          68,
          50,
          1048,
          780,
          143,
          77,
          48,
          704,
          358,
          221,
          88,
          37,
          705,
          342,
          252,
          67,
          44,
          949,
          637,
          205,
          51,
          56,
          1181,
          883,
          163,
          82,
          53,
          715,
          390,
          191,
          92,
          43,
          734,
          408,
          210,
          69,
          47,
          983,
          647,
          200,
          77,
          59,
          1359,
          1041,
          172,
          87,
          58,
          849,
          469,
          215,
          118,
          48,
          746,
          435,
          185,
          78,
          47,
          1109,
          749,
          223,
          75,
          62,
          1380,
          1037,
          188,
          104,
          51,
          858,
          499,
          196,
          110,
          53,
          801,
          459,
          219,
          81,
          43,
          1079,
          761,
          169,
          102,
          47,
          1540,
          1178,
          206,
          95,
          61,
          838,
          530,
          148,
          109,
          51,
          949,
          595,
          198,
          102,
          55,
          1325.9,
          887.2,
          231.8,
          95,
          111.9,
          1597.1,
          1250.6,
          153.1,
          123.9,
          69.5,
          1172,
          674.6,
          258.1,
          211.1,
          28.2,
          1117.4,
          706,
          221.9,
          139,
          50.5,
          1428.2,
          990.7,
          246.2,
          138.9,
          52.4,
          2128.8,
          1658.5,
          200.9,
          199.6,
          69.8,
          1460.1,
          1008.7,
          181.3,
          217.9,
          52.2,
          1361.1,
          932.3,
          202.9,
          182.5,
          43.4,
          1726.8,
          1295,
          205.5,
          158.4,
          67.9,
          2392.1,
          1933.6,
          153.7,
          236.8,
          68,
          1864.8,
          1381.5,
          222.2,
          207,
          54.1,
          1594.5,
          1132.2,
          215.2,
          205.1,
          42,
          1799.2,
          1279.6,
          238.7,
          198.9,
          82,
          2421,
          1943,
          166.4,
          214.9,
          96.7,
          1372.3,
          927.9,
          165.4,
          221.9,
          57.1,
          1241.4,
          814,
          159.5,
          168.1,
          99.8,
          1577.2,
          1096.8,
          165.9,
          164.8,
          149.7,
          1809.2,
          1361.4,
          133.6,
          193.3,
          120.9,
          1159.1,
          677.6,
          190,
          206.7,
          84.8,
          995.1,
          533.6,
          130.4,
          214.4,
          116.7,
          1301.1,
          836.2,
          150.5,
          162.3,
          152.1,
          1950.1,
          1433,
          172.5,
          219.1,
          125.5,
          1096.2,
          568.8,
          177.9,
          205.1,
          144.3,
          1012.2,
          526.8,
          202.3,
          185.9,
          97.2,
          1346.1,
          894.7,
          133.6,
          206.6,
          111.3,
          1939.7,
          1283.2,
          250.8,
          241.3,
          164.4,
          1086.1,
          488.1,
          225.6,
          254.2,
          118.1,
          937.7,
          462.5,
          206.4,
          176.5,
          92.3,
          1468.5,
          849.1,
          242.5,
          239.1,
          137.9,
          1980.4,
          1424.7,
          146.8,
          283.2,
          125.7,
          1203.5,
          654.8,
          217,
          213.3,
          118.5,
          1040.7,
          543,
          222.9,
          168.1,
          106.7,
          1510.1,
          981,
          222.7,
          170.5,
          135.8,
          2146.7,
          1597.6,
          169.4,
          225.5,
          154.2,
          1324.6,
          714.6,
          265.6,
          195.6,
          148.9,
          1224.1,
          631.4,
          288.5,
          168,
          136.2,
          1582.1,
          934.3,
          279,
          211.9,
          156.9,
          2273.3,
          1599.7,
          180.4,
          305,
          188.3,
          1459.5,
          761.5,
          346.2,
          208.9,
          142.8,
          1240.2,
          653.9,
          268,
          181.2,
          137.2,
          1730.2,
          1076,
          243.8,
          196.9,
          213.5,
          2438.5,
          1816.5,
          138,
          293.7,
          190.3,
          1481.8,
          791.1,
          264.1,
          239.1,
          187.6,
          1395.5,
          712.5,
          318.5,
          253,
          111.5,
          1908.9,
          1370.9,
          191.1,
          219.3,
          127.6,
          2517.2,
          1929.4,
          186.4,
          255.9,
          145.4,
          1613,
          880,
          359.5,
          235.4,
          138,
          1579.5,
          877.8,
          310.2,
          249.9,
          141.6,
          2194.4,
          1493.1,
          251.7,
          268.3,
          181.2,
          2833.3,
          2120.8,
          201.7,
          264.7,
          246,
          1645.4,
          851.2,
          324,
          245.5,
          224.7,
          1517,
          833,
          297,
          277,
          110,
          38,
          222.8,
          222.8,
          222.8,
          222.8,
          412,
          222.8,
          222.8,
          222.8,
          222.8,
          155,
          222.8,
          222.8,
          222.8,
          222.8,
          63,
          4,
          16,
          4,
          40,
          83,
          17,
          14,
          6,
          47,
          863,
          377,
          62,
          348,
          76,
          949,
          601,
          86,
          161,
          101,
          819,
          519,
          85,
          177,
          38,
          2257,
          1367,
          161,
          604,
          124,
          3424,
          2858,
          151,
          311,
          103,
          2018,
          1091,
          444,
          380,
          104,
          2230,
          1270,
          168,
          634,
          159,
          3660,
          2263,
          705,
          464,
          228,
          3988,
          3049,
          184,
          671,
          83,
          3070,
          1980,
          237,
          691,
          162,
          2065,
          1329,
          213,
          388,
          134,
          3479,
          2380,
          342,
          563,
          194
         ]
        }
       ],
       "layout": {
        "template": {
         "data": {
          "bar": [
           {
            "error_x": {
             "color": "#2a3f5f"
            },
            "error_y": {
             "color": "#2a3f5f"
            },
            "marker": {
             "line": {
              "color": "#E5ECF6",
              "width": 0.5
             },
             "pattern": {
              "fillmode": "overlay",
              "size": 10,
              "solidity": 0.2
             }
            },
            "type": "bar"
           }
          ],
          "barpolar": [
           {
            "marker": {
             "line": {
              "color": "#E5ECF6",
              "width": 0.5
             },
             "pattern": {
              "fillmode": "overlay",
              "size": 10,
              "solidity": 0.2
             }
            },
            "type": "barpolar"
           }
          ],
          "carpet": [
           {
            "aaxis": {
             "endlinecolor": "#2a3f5f",
             "gridcolor": "white",
             "linecolor": "white",
             "minorgridcolor": "white",
             "startlinecolor": "#2a3f5f"
            },
            "baxis": {
             "endlinecolor": "#2a3f5f",
             "gridcolor": "white",
             "linecolor": "white",
             "minorgridcolor": "white",
             "startlinecolor": "#2a3f5f"
            },
            "type": "carpet"
           }
          ],
          "choropleth": [
           {
            "colorbar": {
             "outlinewidth": 0,
             "ticks": ""
            },
            "type": "choropleth"
           }
          ],
          "contour": [
           {
            "colorbar": {
             "outlinewidth": 0,
             "ticks": ""
            },
            "colorscale": [
             [
              0,
              "#0d0887"
             ],
             [
              0.1111111111111111,
              "#46039f"
             ],
             [
              0.2222222222222222,
              "#7201a8"
             ],
             [
              0.3333333333333333,
              "#9c179e"
             ],
             [
              0.4444444444444444,
              "#bd3786"
             ],
             [
              0.5555555555555556,
              "#d8576b"
             ],
             [
              0.6666666666666666,
              "#ed7953"
             ],
             [
              0.7777777777777778,
              "#fb9f3a"
             ],
             [
              0.8888888888888888,
              "#fdca26"
             ],
             [
              1,
              "#f0f921"
             ]
            ],
            "type": "contour"
           }
          ],
          "contourcarpet": [
           {
            "colorbar": {
             "outlinewidth": 0,
             "ticks": ""
            },
            "type": "contourcarpet"
           }
          ],
          "heatmap": [
           {
            "colorbar": {
             "outlinewidth": 0,
             "ticks": ""
            },
            "colorscale": [
             [
              0,
              "#0d0887"
             ],
             [
              0.1111111111111111,
              "#46039f"
             ],
             [
              0.2222222222222222,
              "#7201a8"
             ],
             [
              0.3333333333333333,
              "#9c179e"
             ],
             [
              0.4444444444444444,
              "#bd3786"
             ],
             [
              0.5555555555555556,
              "#d8576b"
             ],
             [
              0.6666666666666666,
              "#ed7953"
             ],
             [
              0.7777777777777778,
              "#fb9f3a"
             ],
             [
              0.8888888888888888,
              "#fdca26"
             ],
             [
              1,
              "#f0f921"
             ]
            ],
            "type": "heatmap"
           }
          ],
          "heatmapgl": [
           {
            "colorbar": {
             "outlinewidth": 0,
             "ticks": ""
            },
            "colorscale": [
             [
              0,
              "#0d0887"
             ],
             [
              0.1111111111111111,
              "#46039f"
             ],
             [
              0.2222222222222222,
              "#7201a8"
             ],
             [
              0.3333333333333333,
              "#9c179e"
             ],
             [
              0.4444444444444444,
              "#bd3786"
             ],
             [
              0.5555555555555556,
              "#d8576b"
             ],
             [
              0.6666666666666666,
              "#ed7953"
             ],
             [
              0.7777777777777778,
              "#fb9f3a"
             ],
             [
              0.8888888888888888,
              "#fdca26"
             ],
             [
              1,
              "#f0f921"
             ]
            ],
            "type": "heatmapgl"
           }
          ],
          "histogram": [
           {
            "marker": {
             "pattern": {
              "fillmode": "overlay",
              "size": 10,
              "solidity": 0.2
             }
            },
            "type": "histogram"
           }
          ],
          "histogram2d": [
           {
            "colorbar": {
             "outlinewidth": 0,
             "ticks": ""
            },
            "colorscale": [
             [
              0,
              "#0d0887"
             ],
             [
              0.1111111111111111,
              "#46039f"
             ],
             [
              0.2222222222222222,
              "#7201a8"
             ],
             [
              0.3333333333333333,
              "#9c179e"
             ],
             [
              0.4444444444444444,
              "#bd3786"
             ],
             [
              0.5555555555555556,
              "#d8576b"
             ],
             [
              0.6666666666666666,
              "#ed7953"
             ],
             [
              0.7777777777777778,
              "#fb9f3a"
             ],
             [
              0.8888888888888888,
              "#fdca26"
             ],
             [
              1,
              "#f0f921"
             ]
            ],
            "type": "histogram2d"
           }
          ],
          "histogram2dcontour": [
           {
            "colorbar": {
             "outlinewidth": 0,
             "ticks": ""
            },
            "colorscale": [
             [
              0,
              "#0d0887"
             ],
             [
              0.1111111111111111,
              "#46039f"
             ],
             [
              0.2222222222222222,
              "#7201a8"
             ],
             [
              0.3333333333333333,
              "#9c179e"
             ],
             [
              0.4444444444444444,
              "#bd3786"
             ],
             [
              0.5555555555555556,
              "#d8576b"
             ],
             [
              0.6666666666666666,
              "#ed7953"
             ],
             [
              0.7777777777777778,
              "#fb9f3a"
             ],
             [
              0.8888888888888888,
              "#fdca26"
             ],
             [
              1,
              "#f0f921"
             ]
            ],
            "type": "histogram2dcontour"
           }
          ],
          "mesh3d": [
           {
            "colorbar": {
             "outlinewidth": 0,
             "ticks": ""
            },
            "type": "mesh3d"
           }
          ],
          "parcoords": [
           {
            "line": {
             "colorbar": {
              "outlinewidth": 0,
              "ticks": ""
             }
            },
            "type": "parcoords"
           }
          ],
          "pie": [
           {
            "automargin": true,
            "type": "pie"
           }
          ],
          "scatter": [
           {
            "fillpattern": {
             "fillmode": "overlay",
             "size": 10,
             "solidity": 0.2
            },
            "type": "scatter"
           }
          ],
          "scatter3d": [
           {
            "line": {
             "colorbar": {
              "outlinewidth": 0,
              "ticks": ""
             }
            },
            "marker": {
             "colorbar": {
              "outlinewidth": 0,
              "ticks": ""
             }
            },
            "type": "scatter3d"
           }
          ],
          "scattercarpet": [
           {
            "marker": {
             "colorbar": {
              "outlinewidth": 0,
              "ticks": ""
             }
            },
            "type": "scattercarpet"
           }
          ],
          "scattergeo": [
           {
            "marker": {
             "colorbar": {
              "outlinewidth": 0,
              "ticks": ""
             }
            },
            "type": "scattergeo"
           }
          ],
          "scattergl": [
           {
            "marker": {
             "colorbar": {
              "outlinewidth": 0,
              "ticks": ""
             }
            },
            "type": "scattergl"
           }
          ],
          "scattermapbox": [
           {
            "marker": {
             "colorbar": {
              "outlinewidth": 0,
              "ticks": ""
             }
            },
            "type": "scattermapbox"
           }
          ],
          "scatterpolar": [
           {
            "marker": {
             "colorbar": {
              "outlinewidth": 0,
              "ticks": ""
             }
            },
            "type": "scatterpolar"
           }
          ],
          "scatterpolargl": [
           {
            "marker": {
             "colorbar": {
              "outlinewidth": 0,
              "ticks": ""
             }
            },
            "type": "scatterpolargl"
           }
          ],
          "scatterternary": [
           {
            "marker": {
             "colorbar": {
              "outlinewidth": 0,
              "ticks": ""
             }
            },
            "type": "scatterternary"
           }
          ],
          "surface": [
           {
            "colorbar": {
             "outlinewidth": 0,
             "ticks": ""
            },
            "colorscale": [
             [
              0,
              "#0d0887"
             ],
             [
              0.1111111111111111,
              "#46039f"
             ],
             [
              0.2222222222222222,
              "#7201a8"
             ],
             [
              0.3333333333333333,
              "#9c179e"
             ],
             [
              0.4444444444444444,
              "#bd3786"
             ],
             [
              0.5555555555555556,
              "#d8576b"
             ],
             [
              0.6666666666666666,
              "#ed7953"
             ],
             [
              0.7777777777777778,
              "#fb9f3a"
             ],
             [
              0.8888888888888888,
              "#fdca26"
             ],
             [
              1,
              "#f0f921"
             ]
            ],
            "type": "surface"
           }
          ],
          "table": [
           {
            "cells": {
             "fill": {
              "color": "#EBF0F8"
             },
             "line": {
              "color": "white"
             }
            },
            "header": {
             "fill": {
              "color": "#C8D4E3"
             },
             "line": {
              "color": "white"
             }
            },
            "type": "table"
           }
          ]
         },
         "layout": {
          "annotationdefaults": {
           "arrowcolor": "#2a3f5f",
           "arrowhead": 0,
           "arrowwidth": 1
          },
          "autotypenumbers": "strict",
          "coloraxis": {
           "colorbar": {
            "outlinewidth": 0,
            "ticks": ""
           }
          },
          "colorscale": {
           "diverging": [
            [
             0,
             "#8e0152"
            ],
            [
             0.1,
             "#c51b7d"
            ],
            [
             0.2,
             "#de77ae"
            ],
            [
             0.3,
             "#f1b6da"
            ],
            [
             0.4,
             "#fde0ef"
            ],
            [
             0.5,
             "#f7f7f7"
            ],
            [
             0.6,
             "#e6f5d0"
            ],
            [
             0.7,
             "#b8e186"
            ],
            [
             0.8,
             "#7fbc41"
            ],
            [
             0.9,
             "#4d9221"
            ],
            [
             1,
             "#276419"
            ]
           ],
           "sequential": [
            [
             0,
             "#0d0887"
            ],
            [
             0.1111111111111111,
             "#46039f"
            ],
            [
             0.2222222222222222,
             "#7201a8"
            ],
            [
             0.3333333333333333,
             "#9c179e"
            ],
            [
             0.4444444444444444,
             "#bd3786"
            ],
            [
             0.5555555555555556,
             "#d8576b"
            ],
            [
             0.6666666666666666,
             "#ed7953"
            ],
            [
             0.7777777777777778,
             "#fb9f3a"
            ],
            [
             0.8888888888888888,
             "#fdca26"
            ],
            [
             1,
             "#f0f921"
            ]
           ],
           "sequentialminus": [
            [
             0,
             "#0d0887"
            ],
            [
             0.1111111111111111,
             "#46039f"
            ],
            [
             0.2222222222222222,
             "#7201a8"
            ],
            [
             0.3333333333333333,
             "#9c179e"
            ],
            [
             0.4444444444444444,
             "#bd3786"
            ],
            [
             0.5555555555555556,
             "#d8576b"
            ],
            [
             0.6666666666666666,
             "#ed7953"
            ],
            [
             0.7777777777777778,
             "#fb9f3a"
            ],
            [
             0.8888888888888888,
             "#fdca26"
            ],
            [
             1,
             "#f0f921"
            ]
           ]
          },
          "colorway": [
           "#636efa",
           "#EF553B",
           "#00cc96",
           "#ab63fa",
           "#FFA15A",
           "#19d3f3",
           "#FF6692",
           "#B6E880",
           "#FF97FF",
           "#FECB52"
          ],
          "font": {
           "color": "#2a3f5f"
          },
          "geo": {
           "bgcolor": "white",
           "lakecolor": "white",
           "landcolor": "#E5ECF6",
           "showlakes": true,
           "showland": true,
           "subunitcolor": "white"
          },
          "hoverlabel": {
           "align": "left"
          },
          "hovermode": "closest",
          "mapbox": {
           "style": "light"
          },
          "paper_bgcolor": "white",
          "plot_bgcolor": "#E5ECF6",
          "polar": {
           "angularaxis": {
            "gridcolor": "white",
            "linecolor": "white",
            "ticks": ""
           },
           "bgcolor": "#E5ECF6",
           "radialaxis": {
            "gridcolor": "white",
            "linecolor": "white",
            "ticks": ""
           }
          },
          "scene": {
           "xaxis": {
            "backgroundcolor": "#E5ECF6",
            "gridcolor": "white",
            "gridwidth": 2,
            "linecolor": "white",
            "showbackground": true,
            "ticks": "",
            "zerolinecolor": "white"
           },
           "yaxis": {
            "backgroundcolor": "#E5ECF6",
            "gridcolor": "white",
            "gridwidth": 2,
            "linecolor": "white",
            "showbackground": true,
            "ticks": "",
            "zerolinecolor": "white"
           },
           "zaxis": {
            "backgroundcolor": "#E5ECF6",
            "gridcolor": "white",
            "gridwidth": 2,
            "linecolor": "white",
            "showbackground": true,
            "ticks": "",
            "zerolinecolor": "white"
           }
          },
          "shapedefaults": {
           "line": {
            "color": "#2a3f5f"
           }
          },
          "ternary": {
           "aaxis": {
            "gridcolor": "white",
            "linecolor": "white",
            "ticks": ""
           },
           "baxis": {
            "gridcolor": "white",
            "linecolor": "white",
            "ticks": ""
           },
           "bgcolor": "#E5ECF6",
           "caxis": {
            "gridcolor": "white",
            "linecolor": "white",
            "ticks": ""
           }
          },
          "title": {
           "x": 0.05
          },
          "xaxis": {
           "automargin": true,
           "gridcolor": "white",
           "linecolor": "white",
           "ticks": "",
           "title": {
            "standoff": 15
           },
           "zerolinecolor": "white",
           "zerolinewidth": 2
          },
          "yaxis": {
           "automargin": true,
           "gridcolor": "white",
           "linecolor": "white",
           "ticks": "",
           "title": {
            "standoff": 15
           },
           "zerolinecolor": "white",
           "zerolinewidth": 2
          }
         }
        },
        "title": {
         "text": "Expenditure Trends Over Time"
        }
       }
      }
     },
     "metadata": {},
     "output_type": "display_data"
    }
   ],
   "source": [
    "fig3 = go.Figure()\n",
    "for travel_type in ['Domestic', 'Outbound']:\n",
    "    data = expenditure_df[expenditure_df['Domestic'] == travel_type]\n",
    "    fig3.add_trace(\n",
    "        go.Scatter(\n",
    "            x=data['Date'],\n",
    "            y=data['VALUE'],\n",
    "            name=travel_type,\n",
    "            mode='lines+markers'\n",
    "        )\n",
    "    )\n",
    "fig3.update_layout(title='Expenditure Trends Over Time')\n",
    "fig3.show()"
   ]
  },
  {
   "cell_type": "code",
   "execution_count": 41,
   "metadata": {},
   "outputs": [],
   "source": [
    "journey_dist = trips_df.pivot_table(\n",
    "    values='VALUE',\n",
    "    index='Reason for Journey',\n",
    "    columns='Domestic',\n",
    "    aggfunc='mean'\n",
    ").round(2)"
   ]
  },
  {
   "cell_type": "code",
   "execution_count": 42,
   "metadata": {},
   "outputs": [
    {
     "data": {
      "application/vnd.plotly.v1+json": {
       "config": {
        "plotlyServerURL": "https://plot.ly"
       },
       "data": [
        {
         "alignmentgroup": "True",
         "hovertemplate": "variable=Domestic<br>Reason for Journey=%{x}<br>value=%{y}<extra></extra>",
         "legendgroup": "Domestic",
         "marker": {
          "color": "#636efa",
          "pattern": {
           "shape": ""
          }
         },
         "name": "Domestic",
         "offsetgroup": "Domestic",
         "orientation": "v",
         "showlegend": true,
         "textposition": "auto",
         "type": "bar",
         "x": [
          "All reasons for journey",
          "Business",
          "Holiday",
          "Other reasons",
          "Visiting friends/relatives"
         ],
         "xaxis": "x",
         "y": [
          2173.16,
          140.2,
          1066.1,
          240.82,
          733.34
         ],
         "yaxis": "y"
        },
        {
         "alignmentgroup": "True",
         "hovertemplate": "variable=Outbound<br>Reason for Journey=%{x}<br>value=%{y}<extra></extra>",
         "legendgroup": "Outbound",
         "marker": {
          "color": "#EF553B",
          "pattern": {
           "shape": ""
          }
         },
         "name": "Outbound",
         "offsetgroup": "Outbound",
         "orientation": "v",
         "showlegend": true,
         "textposition": "auto",
         "type": "bar",
         "x": [
          "All reasons for journey",
          "Business",
          "Holiday",
          "Other reasons",
          "Visiting friends/relatives"
         ],
         "xaxis": "x",
         "y": [
          1690.96,
          178.93,
          1029.15,
          137.78,
          366.19
         ],
         "yaxis": "y"
        }
       ],
       "layout": {
        "barmode": "group",
        "legend": {
         "title": {
          "text": "variable"
         },
         "tracegroupgap": 0
        },
        "template": {
         "data": {
          "bar": [
           {
            "error_x": {
             "color": "#2a3f5f"
            },
            "error_y": {
             "color": "#2a3f5f"
            },
            "marker": {
             "line": {
              "color": "#E5ECF6",
              "width": 0.5
             },
             "pattern": {
              "fillmode": "overlay",
              "size": 10,
              "solidity": 0.2
             }
            },
            "type": "bar"
           }
          ],
          "barpolar": [
           {
            "marker": {
             "line": {
              "color": "#E5ECF6",
              "width": 0.5
             },
             "pattern": {
              "fillmode": "overlay",
              "size": 10,
              "solidity": 0.2
             }
            },
            "type": "barpolar"
           }
          ],
          "carpet": [
           {
            "aaxis": {
             "endlinecolor": "#2a3f5f",
             "gridcolor": "white",
             "linecolor": "white",
             "minorgridcolor": "white",
             "startlinecolor": "#2a3f5f"
            },
            "baxis": {
             "endlinecolor": "#2a3f5f",
             "gridcolor": "white",
             "linecolor": "white",
             "minorgridcolor": "white",
             "startlinecolor": "#2a3f5f"
            },
            "type": "carpet"
           }
          ],
          "choropleth": [
           {
            "colorbar": {
             "outlinewidth": 0,
             "ticks": ""
            },
            "type": "choropleth"
           }
          ],
          "contour": [
           {
            "colorbar": {
             "outlinewidth": 0,
             "ticks": ""
            },
            "colorscale": [
             [
              0,
              "#0d0887"
             ],
             [
              0.1111111111111111,
              "#46039f"
             ],
             [
              0.2222222222222222,
              "#7201a8"
             ],
             [
              0.3333333333333333,
              "#9c179e"
             ],
             [
              0.4444444444444444,
              "#bd3786"
             ],
             [
              0.5555555555555556,
              "#d8576b"
             ],
             [
              0.6666666666666666,
              "#ed7953"
             ],
             [
              0.7777777777777778,
              "#fb9f3a"
             ],
             [
              0.8888888888888888,
              "#fdca26"
             ],
             [
              1,
              "#f0f921"
             ]
            ],
            "type": "contour"
           }
          ],
          "contourcarpet": [
           {
            "colorbar": {
             "outlinewidth": 0,
             "ticks": ""
            },
            "type": "contourcarpet"
           }
          ],
          "heatmap": [
           {
            "colorbar": {
             "outlinewidth": 0,
             "ticks": ""
            },
            "colorscale": [
             [
              0,
              "#0d0887"
             ],
             [
              0.1111111111111111,
              "#46039f"
             ],
             [
              0.2222222222222222,
              "#7201a8"
             ],
             [
              0.3333333333333333,
              "#9c179e"
             ],
             [
              0.4444444444444444,
              "#bd3786"
             ],
             [
              0.5555555555555556,
              "#d8576b"
             ],
             [
              0.6666666666666666,
              "#ed7953"
             ],
             [
              0.7777777777777778,
              "#fb9f3a"
             ],
             [
              0.8888888888888888,
              "#fdca26"
             ],
             [
              1,
              "#f0f921"
             ]
            ],
            "type": "heatmap"
           }
          ],
          "heatmapgl": [
           {
            "colorbar": {
             "outlinewidth": 0,
             "ticks": ""
            },
            "colorscale": [
             [
              0,
              "#0d0887"
             ],
             [
              0.1111111111111111,
              "#46039f"
             ],
             [
              0.2222222222222222,
              "#7201a8"
             ],
             [
              0.3333333333333333,
              "#9c179e"
             ],
             [
              0.4444444444444444,
              "#bd3786"
             ],
             [
              0.5555555555555556,
              "#d8576b"
             ],
             [
              0.6666666666666666,
              "#ed7953"
             ],
             [
              0.7777777777777778,
              "#fb9f3a"
             ],
             [
              0.8888888888888888,
              "#fdca26"
             ],
             [
              1,
              "#f0f921"
             ]
            ],
            "type": "heatmapgl"
           }
          ],
          "histogram": [
           {
            "marker": {
             "pattern": {
              "fillmode": "overlay",
              "size": 10,
              "solidity": 0.2
             }
            },
            "type": "histogram"
           }
          ],
          "histogram2d": [
           {
            "colorbar": {
             "outlinewidth": 0,
             "ticks": ""
            },
            "colorscale": [
             [
              0,
              "#0d0887"
             ],
             [
              0.1111111111111111,
              "#46039f"
             ],
             [
              0.2222222222222222,
              "#7201a8"
             ],
             [
              0.3333333333333333,
              "#9c179e"
             ],
             [
              0.4444444444444444,
              "#bd3786"
             ],
             [
              0.5555555555555556,
              "#d8576b"
             ],
             [
              0.6666666666666666,
              "#ed7953"
             ],
             [
              0.7777777777777778,
              "#fb9f3a"
             ],
             [
              0.8888888888888888,
              "#fdca26"
             ],
             [
              1,
              "#f0f921"
             ]
            ],
            "type": "histogram2d"
           }
          ],
          "histogram2dcontour": [
           {
            "colorbar": {
             "outlinewidth": 0,
             "ticks": ""
            },
            "colorscale": [
             [
              0,
              "#0d0887"
             ],
             [
              0.1111111111111111,
              "#46039f"
             ],
             [
              0.2222222222222222,
              "#7201a8"
             ],
             [
              0.3333333333333333,
              "#9c179e"
             ],
             [
              0.4444444444444444,
              "#bd3786"
             ],
             [
              0.5555555555555556,
              "#d8576b"
             ],
             [
              0.6666666666666666,
              "#ed7953"
             ],
             [
              0.7777777777777778,
              "#fb9f3a"
             ],
             [
              0.8888888888888888,
              "#fdca26"
             ],
             [
              1,
              "#f0f921"
             ]
            ],
            "type": "histogram2dcontour"
           }
          ],
          "mesh3d": [
           {
            "colorbar": {
             "outlinewidth": 0,
             "ticks": ""
            },
            "type": "mesh3d"
           }
          ],
          "parcoords": [
           {
            "line": {
             "colorbar": {
              "outlinewidth": 0,
              "ticks": ""
             }
            },
            "type": "parcoords"
           }
          ],
          "pie": [
           {
            "automargin": true,
            "type": "pie"
           }
          ],
          "scatter": [
           {
            "fillpattern": {
             "fillmode": "overlay",
             "size": 10,
             "solidity": 0.2
            },
            "type": "scatter"
           }
          ],
          "scatter3d": [
           {
            "line": {
             "colorbar": {
              "outlinewidth": 0,
              "ticks": ""
             }
            },
            "marker": {
             "colorbar": {
              "outlinewidth": 0,
              "ticks": ""
             }
            },
            "type": "scatter3d"
           }
          ],
          "scattercarpet": [
           {
            "marker": {
             "colorbar": {
              "outlinewidth": 0,
              "ticks": ""
             }
            },
            "type": "scattercarpet"
           }
          ],
          "scattergeo": [
           {
            "marker": {
             "colorbar": {
              "outlinewidth": 0,
              "ticks": ""
             }
            },
            "type": "scattergeo"
           }
          ],
          "scattergl": [
           {
            "marker": {
             "colorbar": {
              "outlinewidth": 0,
              "ticks": ""
             }
            },
            "type": "scattergl"
           }
          ],
          "scattermapbox": [
           {
            "marker": {
             "colorbar": {
              "outlinewidth": 0,
              "ticks": ""
             }
            },
            "type": "scattermapbox"
           }
          ],
          "scatterpolar": [
           {
            "marker": {
             "colorbar": {
              "outlinewidth": 0,
              "ticks": ""
             }
            },
            "type": "scatterpolar"
           }
          ],
          "scatterpolargl": [
           {
            "marker": {
             "colorbar": {
              "outlinewidth": 0,
              "ticks": ""
             }
            },
            "type": "scatterpolargl"
           }
          ],
          "scatterternary": [
           {
            "marker": {
             "colorbar": {
              "outlinewidth": 0,
              "ticks": ""
             }
            },
            "type": "scatterternary"
           }
          ],
          "surface": [
           {
            "colorbar": {
             "outlinewidth": 0,
             "ticks": ""
            },
            "colorscale": [
             [
              0,
              "#0d0887"
             ],
             [
              0.1111111111111111,
              "#46039f"
             ],
             [
              0.2222222222222222,
              "#7201a8"
             ],
             [
              0.3333333333333333,
              "#9c179e"
             ],
             [
              0.4444444444444444,
              "#bd3786"
             ],
             [
              0.5555555555555556,
              "#d8576b"
             ],
             [
              0.6666666666666666,
              "#ed7953"
             ],
             [
              0.7777777777777778,
              "#fb9f3a"
             ],
             [
              0.8888888888888888,
              "#fdca26"
             ],
             [
              1,
              "#f0f921"
             ]
            ],
            "type": "surface"
           }
          ],
          "table": [
           {
            "cells": {
             "fill": {
              "color": "#EBF0F8"
             },
             "line": {
              "color": "white"
             }
            },
            "header": {
             "fill": {
              "color": "#C8D4E3"
             },
             "line": {
              "color": "white"
             }
            },
            "type": "table"
           }
          ]
         },
         "layout": {
          "annotationdefaults": {
           "arrowcolor": "#2a3f5f",
           "arrowhead": 0,
           "arrowwidth": 1
          },
          "autotypenumbers": "strict",
          "coloraxis": {
           "colorbar": {
            "outlinewidth": 0,
            "ticks": ""
           }
          },
          "colorscale": {
           "diverging": [
            [
             0,
             "#8e0152"
            ],
            [
             0.1,
             "#c51b7d"
            ],
            [
             0.2,
             "#de77ae"
            ],
            [
             0.3,
             "#f1b6da"
            ],
            [
             0.4,
             "#fde0ef"
            ],
            [
             0.5,
             "#f7f7f7"
            ],
            [
             0.6,
             "#e6f5d0"
            ],
            [
             0.7,
             "#b8e186"
            ],
            [
             0.8,
             "#7fbc41"
            ],
            [
             0.9,
             "#4d9221"
            ],
            [
             1,
             "#276419"
            ]
           ],
           "sequential": [
            [
             0,
             "#0d0887"
            ],
            [
             0.1111111111111111,
             "#46039f"
            ],
            [
             0.2222222222222222,
             "#7201a8"
            ],
            [
             0.3333333333333333,
             "#9c179e"
            ],
            [
             0.4444444444444444,
             "#bd3786"
            ],
            [
             0.5555555555555556,
             "#d8576b"
            ],
            [
             0.6666666666666666,
             "#ed7953"
            ],
            [
             0.7777777777777778,
             "#fb9f3a"
            ],
            [
             0.8888888888888888,
             "#fdca26"
            ],
            [
             1,
             "#f0f921"
            ]
           ],
           "sequentialminus": [
            [
             0,
             "#0d0887"
            ],
            [
             0.1111111111111111,
             "#46039f"
            ],
            [
             0.2222222222222222,
             "#7201a8"
            ],
            [
             0.3333333333333333,
             "#9c179e"
            ],
            [
             0.4444444444444444,
             "#bd3786"
            ],
            [
             0.5555555555555556,
             "#d8576b"
            ],
            [
             0.6666666666666666,
             "#ed7953"
            ],
            [
             0.7777777777777778,
             "#fb9f3a"
            ],
            [
             0.8888888888888888,
             "#fdca26"
            ],
            [
             1,
             "#f0f921"
            ]
           ]
          },
          "colorway": [
           "#636efa",
           "#EF553B",
           "#00cc96",
           "#ab63fa",
           "#FFA15A",
           "#19d3f3",
           "#FF6692",
           "#B6E880",
           "#FF97FF",
           "#FECB52"
          ],
          "font": {
           "color": "#2a3f5f"
          },
          "geo": {
           "bgcolor": "white",
           "lakecolor": "white",
           "landcolor": "#E5ECF6",
           "showlakes": true,
           "showland": true,
           "subunitcolor": "white"
          },
          "hoverlabel": {
           "align": "left"
          },
          "hovermode": "closest",
          "mapbox": {
           "style": "light"
          },
          "paper_bgcolor": "white",
          "plot_bgcolor": "#E5ECF6",
          "polar": {
           "angularaxis": {
            "gridcolor": "white",
            "linecolor": "white",
            "ticks": ""
           },
           "bgcolor": "#E5ECF6",
           "radialaxis": {
            "gridcolor": "white",
            "linecolor": "white",
            "ticks": ""
           }
          },
          "scene": {
           "xaxis": {
            "backgroundcolor": "#E5ECF6",
            "gridcolor": "white",
            "gridwidth": 2,
            "linecolor": "white",
            "showbackground": true,
            "ticks": "",
            "zerolinecolor": "white"
           },
           "yaxis": {
            "backgroundcolor": "#E5ECF6",
            "gridcolor": "white",
            "gridwidth": 2,
            "linecolor": "white",
            "showbackground": true,
            "ticks": "",
            "zerolinecolor": "white"
           },
           "zaxis": {
            "backgroundcolor": "#E5ECF6",
            "gridcolor": "white",
            "gridwidth": 2,
            "linecolor": "white",
            "showbackground": true,
            "ticks": "",
            "zerolinecolor": "white"
           }
          },
          "shapedefaults": {
           "line": {
            "color": "#2a3f5f"
           }
          },
          "ternary": {
           "aaxis": {
            "gridcolor": "white",
            "linecolor": "white",
            "ticks": ""
           },
           "baxis": {
            "gridcolor": "white",
            "linecolor": "white",
            "ticks": ""
           },
           "bgcolor": "#E5ECF6",
           "caxis": {
            "gridcolor": "white",
            "linecolor": "white",
            "ticks": ""
           }
          },
          "title": {
           "x": 0.05
          },
          "xaxis": {
           "automargin": true,
           "gridcolor": "white",
           "linecolor": "white",
           "ticks": "",
           "title": {
            "standoff": 15
           },
           "zerolinecolor": "white",
           "zerolinewidth": 2
          },
          "yaxis": {
           "automargin": true,
           "gridcolor": "white",
           "linecolor": "white",
           "ticks": "",
           "title": {
            "standoff": 15
           },
           "zerolinecolor": "white",
           "zerolinewidth": 2
          }
         }
        },
        "title": {
         "text": "Average Trips by Journey Purpose"
        },
        "xaxis": {
         "anchor": "y",
         "domain": [
          0,
          1
         ],
         "title": {
          "text": "Reason for Journey"
         }
        },
        "yaxis": {
         "anchor": "x",
         "domain": [
          0,
          1
         ],
         "title": {
          "text": "value"
         }
        }
       }
      }
     },
     "metadata": {},
     "output_type": "display_data"
    }
   ],
   "source": [
    "fig4 = px.bar(\n",
    "    journey_dist,\n",
    "    barmode='group',\n",
    "    title='Average Trips by Journey Purpose'\n",
    ")\n",
    "fig4.show()"
   ]
  },
  {
   "cell_type": "code",
   "execution_count": 43,
   "metadata": {},
   "outputs": [
    {
     "name": "stdout",
     "output_type": "stream",
     "text": [
      "\n",
      "Average Trips per Quarter:\n",
      "            mean     std\n",
      "Domestic                \n",
      "Domestic  870.72  869.49\n",
      "Outbound  680.60  724.75\n"
     ]
    }
   ],
   "source": [
    "avg_trips = trips_df.groupby('Domestic')['VALUE'].agg(['mean', 'std']).round(2)\n",
    "print(\"\\nAverage Trips per Quarter:\")\n",
    "print(avg_trips)\n"
   ]
  },
  {
   "cell_type": "code",
   "execution_count": 44,
   "metadata": {},
   "outputs": [
    {
     "name": "stdout",
     "output_type": "stream",
     "text": [
      "\n",
      "Average Expenditure (Euro Million):\n",
      "            mean     std\n",
      "Domestic                \n",
      "Domestic  163.00  194.03\n",
      "Outbound  595.97  693.98\n"
     ]
    }
   ],
   "source": [
    "\n",
    "avg_expenditure = expenditure_df.groupby('Domestic')['VALUE'].agg(['mean', 'std']).round(2)\n",
    "print(\"\\nAverage Expenditure (Euro Million):\")\n",
    "print(avg_expenditure)"
   ]
  },
  {
   "cell_type": "code",
   "execution_count": 45,
   "metadata": {},
   "outputs": [
    {
     "name": "stdout",
     "output_type": "stream",
     "text": [
      "\n",
      "Seasonal Patterns:\n",
      "Season  Domestic\n",
      "Autumn  Domestic     793.52\n",
      "        Outbound     608.13\n",
      "Spring  Domestic     827.51\n",
      "        Outbound     736.19\n",
      "Summer  Domestic    1173.15\n",
      "        Outbound     842.08\n",
      "Winter  Domestic     698.51\n",
      "        Outbound     539.87\n",
      "Name: VALUE, dtype: float64\n"
     ]
    }
   ],
   "source": [
    "\n",
    "seasonal_patterns = trips_df.groupby(['Season', 'Domestic'])['VALUE'].mean().round(2)\n",
    "print(\"\\nSeasonal Patterns:\")\n",
    "print(seasonal_patterns)"
   ]
  },
  {
   "cell_type": "code",
   "execution_count": 47,
   "metadata": {},
   "outputs": [
    {
     "name": "stdout",
     "output_type": "stream",
     "text": [
      "\n",
      "Generating economic indicators...\n"
     ]
    }
   ],
   "source": [
    "print(\"\\nGenerating economic indicators...\")\n",
    "expenditure_by_period = expenditure_df.groupby(['Year', 'Quarter', 'Domestic'])['VALUE'].sum()\n",
    "trips_by_period = trips_df.groupby(['Year', 'Quarter', 'Domestic'])['VALUE'].sum()\n",
    "spend_per_trip = (expenditure_by_period / trips_by_period).round(2)"
   ]
  },
  {
   "cell_type": "code",
   "execution_count": 61,
   "metadata": {},
   "outputs": [
    {
     "name": "stdout",
     "output_type": "stream",
     "text": [
      "\n",
      "Average Spend per Trip:\n",
      "Domestic\n",
      "Domestic    0.181556\n",
      "Outbound    0.853778\n",
      "Name: VALUE, dtype: float64\n"
     ]
    }
   ],
   "source": [
    "print(\"\\nAverage Spend per Trip:\")\n",
    "print(spend_per_trip.groupby('Domestic').mean())\n"
   ]
  },
  {
   "cell_type": "code",
   "execution_count": 62,
   "metadata": {},
   "outputs": [
    {
     "name": "stdout",
     "output_type": "stream",
     "text": [
      "\n",
      "Yearly Growth Rates (%):\n",
      "Domestic\n",
      "Domestic     5.05\n",
      "Outbound    12.46\n",
      "Name: VALUE, dtype: float64\n"
     ]
    }
   ],
   "source": [
    "# Growth rates\n",
    "yearly_trips = trips_df.groupby(['Year', 'Domestic'])['VALUE'].sum()\n",
    "growth_rates = yearly_trips.groupby('Domestic').pct_change() * 100\n",
    "print(\"\\nYearly Growth Rates (%):\")\n",
    "print(growth_rates.groupby('Domestic').mean().round(2))"
   ]
  },
  {
   "cell_type": "code",
   "execution_count": 48,
   "metadata": {},
   "outputs": [],
   "source": [
    "final_df = dataset.copy()\n",
    "final_df['Spend_Per_Trip'] = final_df.apply(\n",
    "    lambda x: spend_per_trip.get((x['Year'], x['Quarter'], x['Domestic']), np.nan),\n",
    "    axis=1\n",
    ")"
   ]
  },
  {
   "cell_type": "code",
   "execution_count": 49,
   "metadata": {},
   "outputs": [],
   "source": [
    "for travel_type in ['Domestic', 'Outbound']:\n",
    "    mask = final_df['Domestic'] == travel_type\n",
    "    final_df.loc[mask, 'Growth_Rate'] = final_df.loc[mask, 'VALUE'].pct_change() * 100"
   ]
  },
  {
   "cell_type": "code",
   "execution_count": 50,
   "metadata": {},
   "outputs": [
    {
     "name": "stdout",
     "output_type": "stream",
     "text": [
      "\n",
      "Final Summary Statistics:\n"
     ]
    }
   ],
   "source": [
    "print(\"\\nFinal Summary Statistics:\")\n",
    "summary_stats = {\n",
    "    'Total Years': final_df['Year'].nunique(),\n",
    "    'Total Quarters': final_df['Quarter'].nunique(),\n",
    "    'Average Domestic Trips': trips_df[trips_df['Domestic'] == 'Domestic']['VALUE'].mean().round(2),\n",
    "    'Average Outbound Trips': trips_df[trips_df['Domestic'] == 'Outbound']['VALUE'].mean().round(2),\n",
    "    'Average Domestic Spend': expenditure_df[expenditure_df['Domestic'] == 'Domestic']['VALUE'].mean().round(2),\n",
    "    'Average Outbound Spend': expenditure_df[expenditure_df['Domestic'] == 'Outbound']['VALUE'].mean().round(2)\n",
    "}"
   ]
  },
  {
   "cell_type": "code",
   "execution_count": 51,
   "metadata": {},
   "outputs": [
    {
     "name": "stdout",
     "output_type": "stream",
     "text": [
      "Total Years: 23\n",
      "Total Quarters: 4\n",
      "Average Domestic Trips: 870.72\n",
      "Average Outbound Trips: 680.6\n",
      "Average Domestic Spend: 163.0\n",
      "Average Outbound Spend: 595.97\n"
     ]
    }
   ],
   "source": [
    "for metric, value in summary_stats.items():\n",
    "    print(f\"{metric}: {value}\")"
   ]
  },
  {
   "cell_type": "markdown",
   "metadata": {},
   "source": [
    "# Machine learning for Data Analytics"
   ]
  },
  {
   "cell_type": "code",
   "execution_count": 52,
   "metadata": {},
   "outputs": [
    {
     "data": {
      "text/html": [
       "<div>\n",
       "<style scoped>\n",
       "    .dataframe tbody tr th:only-of-type {\n",
       "        vertical-align: middle;\n",
       "    }\n",
       "\n",
       "    .dataframe tbody tr th {\n",
       "        vertical-align: top;\n",
       "    }\n",
       "\n",
       "    .dataframe thead th {\n",
       "        text-align: right;\n",
       "    }\n",
       "</style>\n",
       "<table border=\"1\" class=\"dataframe\">\n",
       "  <thead>\n",
       "    <tr style=\"text-align: right;\">\n",
       "      <th></th>\n",
       "      <th>Statistic Label</th>\n",
       "      <th>Quarter</th>\n",
       "      <th>Domestic</th>\n",
       "      <th>Reason for Journey</th>\n",
       "      <th>UNIT</th>\n",
       "      <th>VALUE</th>\n",
       "      <th>Date</th>\n",
       "      <th>Year</th>\n",
       "      <th>Season</th>\n",
       "      <th>Spend_Per_Trip</th>\n",
       "      <th>Growth_Rate</th>\n",
       "    </tr>\n",
       "  </thead>\n",
       "  <tbody>\n",
       "    <tr>\n",
       "      <th>0</th>\n",
       "      <td>Number of Trips by Irish Residents</td>\n",
       "      <td>1</td>\n",
       "      <td>Domestic</td>\n",
       "      <td>All reasons for journey</td>\n",
       "      <td>Thousand</td>\n",
       "      <td>1169.0</td>\n",
       "      <td>2000-01-01</td>\n",
       "      <td>2000</td>\n",
       "      <td>Winter</td>\n",
       "      <td>0.1</td>\n",
       "      <td>NaN</td>\n",
       "    </tr>\n",
       "    <tr>\n",
       "      <th>1</th>\n",
       "      <td>Number of Trips by Irish Residents</td>\n",
       "      <td>1</td>\n",
       "      <td>Domestic</td>\n",
       "      <td>Holiday</td>\n",
       "      <td>Thousand</td>\n",
       "      <td>408.0</td>\n",
       "      <td>2000-01-01</td>\n",
       "      <td>2000</td>\n",
       "      <td>Winter</td>\n",
       "      <td>0.1</td>\n",
       "      <td>-65.098375</td>\n",
       "    </tr>\n",
       "    <tr>\n",
       "      <th>2</th>\n",
       "      <td>Number of Trips by Irish Residents</td>\n",
       "      <td>1</td>\n",
       "      <td>Domestic</td>\n",
       "      <td>Business</td>\n",
       "      <td>Thousand</td>\n",
       "      <td>161.0</td>\n",
       "      <td>2000-01-01</td>\n",
       "      <td>2000</td>\n",
       "      <td>Winter</td>\n",
       "      <td>0.1</td>\n",
       "      <td>-60.539216</td>\n",
       "    </tr>\n",
       "    <tr>\n",
       "      <th>3</th>\n",
       "      <td>Number of Trips by Irish Residents</td>\n",
       "      <td>1</td>\n",
       "      <td>Domestic</td>\n",
       "      <td>Visiting friends/relatives</td>\n",
       "      <td>Thousand</td>\n",
       "      <td>468.0</td>\n",
       "      <td>2000-01-01</td>\n",
       "      <td>2000</td>\n",
       "      <td>Winter</td>\n",
       "      <td>0.1</td>\n",
       "      <td>190.683230</td>\n",
       "    </tr>\n",
       "    <tr>\n",
       "      <th>4</th>\n",
       "      <td>Number of Trips by Irish Residents</td>\n",
       "      <td>1</td>\n",
       "      <td>Domestic</td>\n",
       "      <td>Other reasons</td>\n",
       "      <td>Thousand</td>\n",
       "      <td>132.0</td>\n",
       "      <td>2000-01-01</td>\n",
       "      <td>2000</td>\n",
       "      <td>Winter</td>\n",
       "      <td>0.1</td>\n",
       "      <td>-71.794872</td>\n",
       "    </tr>\n",
       "  </tbody>\n",
       "</table>\n",
       "</div>"
      ],
      "text/plain": [
       "                      Statistic Label  Quarter  Domestic  \\\n",
       "0  Number of Trips by Irish Residents        1  Domestic   \n",
       "1  Number of Trips by Irish Residents        1  Domestic   \n",
       "2  Number of Trips by Irish Residents        1  Domestic   \n",
       "3  Number of Trips by Irish Residents        1  Domestic   \n",
       "4  Number of Trips by Irish Residents        1  Domestic   \n",
       "\n",
       "           Reason for Journey      UNIT   VALUE       Date  Year  Season  \\\n",
       "0     All reasons for journey  Thousand  1169.0 2000-01-01  2000  Winter   \n",
       "1                     Holiday  Thousand   408.0 2000-01-01  2000  Winter   \n",
       "2                    Business  Thousand   161.0 2000-01-01  2000  Winter   \n",
       "3  Visiting friends/relatives  Thousand   468.0 2000-01-01  2000  Winter   \n",
       "4               Other reasons  Thousand   132.0 2000-01-01  2000  Winter   \n",
       "\n",
       "   Spend_Per_Trip  Growth_Rate  \n",
       "0             0.1          NaN  \n",
       "1             0.1   -65.098375  \n",
       "2             0.1   -60.539216  \n",
       "3             0.1   190.683230  \n",
       "4             0.1   -71.794872  "
      ]
     },
     "execution_count": 52,
     "metadata": {},
     "output_type": "execute_result"
    }
   ],
   "source": [
    "final_df.head()"
   ]
  },
  {
   "cell_type": "code",
   "execution_count": 53,
   "metadata": {},
   "outputs": [],
   "source": [
    "# Data preprocessing for ML\n",
    "expenditure_data = final_df[final_df['Statistic Label'].str.contains('Expenditure')].copy()\n",
    "expenditure_data['Month'] = pd.DatetimeIndex(expenditure_data['Date']).month\n",
    "expenditure_data['Previous_Quarter_Value'] = expenditure_data.groupby('Domestic')['VALUE'].shift(1)\n",
    "expenditure_data = expenditure_data.dropna()"
   ]
  },
  {
   "cell_type": "code",
   "execution_count": 54,
   "metadata": {},
   "outputs": [],
   "source": [
    "# Preparing features and target\n",
    "X_exp = expenditure_data[['Year', 'Month', 'Quarter', 'Previous_Quarter_Value']]\n",
    "y_exp = expenditure_data['VALUE']"
   ]
  },
  {
   "cell_type": "code",
   "execution_count": 55,
   "metadata": {},
   "outputs": [],
   "source": [
    "from sklearn.model_selection import train_test_split, TimeSeriesSplit\n",
    "from sklearn.preprocessing import StandardScaler\n",
    "from sklearn.metrics import mean_squared_error, r2_score, mean_absolute_error\n",
    "import xgboost as xgb\n",
    "from sklearn.ensemble import RandomForestRegressor\n",
    "from statsmodels.tsa.statespace.sarimax import SARIMAX"
   ]
  },
  {
   "cell_type": "code",
   "execution_count": 56,
   "metadata": {},
   "outputs": [],
   "source": [
    "# Splitting the dataset\n",
    "X_train_exp, X_test_exp, y_train_exp, y_test_exp = train_test_split(\n",
    "    X_exp, y_exp, test_size=0.2, random_state=42\n",
    ")"
   ]
  },
  {
   "cell_type": "code",
   "execution_count": 57,
   "metadata": {},
   "outputs": [],
   "source": [
    "# Scaling the features\n",
    "scaler = StandardScaler()\n",
    "X_train_exp_scaled = scaler.fit_transform(X_train_exp)\n",
    "X_test_exp_scaled = scaler.transform(X_test_exp)"
   ]
  },
  {
   "cell_type": "code",
   "execution_count": 58,
   "metadata": {},
   "outputs": [
    {
     "name": "stdout",
     "output_type": "stream",
     "text": [
      "Training XGBoost model for expenditure prediction...\n"
     ]
    }
   ],
   "source": [
    "print(\"Training XGBoost model for expenditure prediction...\")\n",
    "xgb_model = xgb.XGBRegressor(\n",
    "    n_estimators=100,\n",
    "    learning_rate=0.1,\n",
    "    max_depth=5,\n",
    "    random_state=42\n",
    ")"
   ]
  },
  {
   "cell_type": "code",
   "execution_count": 59,
   "metadata": {},
   "outputs": [],
   "source": [
    "xgb_model.fit(X_train_exp_scaled, y_train_exp)\n",
    "xgb_predictions = xgb_model.predict(X_test_exp_scaled)"
   ]
  },
  {
   "cell_type": "code",
   "execution_count": 60,
   "metadata": {},
   "outputs": [
    {
     "name": "stdout",
     "output_type": "stream",
     "text": [
      "\n",
      "XGBoost Model Performance:\n",
      "R2 Score: 0.047\n",
      "RMSE: 564.271\n",
      "MAE: 339.160\n"
     ]
    }
   ],
   "source": [
    "# Model performance\n",
    "print(\"\\nXGBoost Model Performance:\")\n",
    "print(f\"R2 Score: {r2_score(y_test_exp, xgb_predictions):.3f}\")\n",
    "print(f\"RMSE: {np.sqrt(mean_squared_error(y_test_exp, xgb_predictions)):.3f}\")\n",
    "print(f\"MAE: {mean_absolute_error(y_test_exp, xgb_predictions):.3f}\")"
   ]
  },
  {
   "cell_type": "code",
   "execution_count": 61,
   "metadata": {},
   "outputs": [
    {
     "data": {
      "image/png": "[encoded data removed]",
      "text/plain": [
       "<Figure size 1000x600 with 1 Axes>"
      ]
     },
     "metadata": {},
     "output_type": "display_data"
    }
   ],
   "source": [
    "plt.figure(figsize=(10, 6))\n",
    "importance_df = pd.DataFrame({\n",
    "    'feature': X_exp.columns,\n",
    "    'importance': xgb_model.feature_importances_\n",
    "})\n",
    "sns.barplot(data=importance_df, x='importance', y='feature')\n",
    "plt.title('Feature Importance for Expenditure Prediction')\n",
    "plt.tight_layout()\n",
    "plt.show()"
   ]
  },
  {
   "cell_type": "code",
   "execution_count": 62,
   "metadata": {},
   "outputs": [],
   "source": [
    "# Preparing time series data\n",
    "trips_data = final_df[\n",
    "    (final_df['Statistic Label'].str.contains('Number of Trips')) &\n",
    "    (final_df['Reason for Journey'] == 'All reasons for journey')\n",
    "].copy()"
   ]
  },
  {
   "cell_type": "code",
   "execution_count": 63,
   "metadata": {},
   "outputs": [],
   "source": [
    "# Separating domestic and outbound\n",
    "domestic_trips = trips_data[trips_data['Domestic'] == 'Domestic'].set_index('Date')['VALUE']\n",
    "outbound_trips = trips_data[trips_data['Domestic'] == 'Outbound'].set_index('Date')['VALUE']\n"
   ]
  },
  {
   "cell_type": "code",
   "execution_count": 64,
   "metadata": {},
   "outputs": [
    {
     "name": "stdout",
     "output_type": "stream",
     "text": [
      "\n",
      "Fitting SARIMA model for domestic trips...\n"
     ]
    },
    {
     "name": "stderr",
     "output_type": "stream",
     "text": [
      "/Library/Frameworks/Python.framework/Versions/3.12/lib/python3.12/site-packages/statsmodels/tsa/base/tsa_model.py:473: ValueWarning:\n",
      "\n",
      "A date index has been provided, but it has no associated frequency information and so will be ignored when e.g. forecasting.\n",
      "\n",
      "/Library/Frameworks/Python.framework/Versions/3.12/lib/python3.12/site-packages/statsmodels/tsa/base/tsa_model.py:473: ValueWarning:\n",
      "\n",
      "A date index has been provided, but it has no associated frequency information and so will be ignored when e.g. forecasting.\n",
      "\n"
     ]
    }
   ],
   "source": [
    "# SARIMA model for domestic trips\n",
    "print(\"\\nFitting SARIMA model for domestic trips...\")\n",
    "sarima_domestic = SARIMAX(\n",
    "    domestic_trips,\n",
    "    order=(1, 1, 1),\n",
    "    seasonal_order=(1, 1, 1, 4)\n",
    ")"
   ]
  },
  {
   "cell_type": "code",
   "execution_count": 65,
   "metadata": {},
   "outputs": [],
   "source": [
    "sarima_domestic_fit = sarima_domestic.fit(disp=False)"
   ]
  },
  {
   "cell_type": "code",
   "execution_count": 66,
   "metadata": {},
   "outputs": [
    {
     "name": "stdout",
     "output_type": "stream",
     "text": [
      "\n",
      "Domestic Travel Forecast (Next 4 quarters):\n",
      "90    5171.733213\n",
      "91    3921.728828\n",
      "92    3630.128226\n",
      "93    4380.807662\n",
      "Name: predicted_mean, dtype: float64\n"
     ]
    },
    {
     "name": "stderr",
     "output_type": "stream",
     "text": [
      "/Library/Frameworks/Python.framework/Versions/3.12/lib/python3.12/site-packages/statsmodels/tsa/base/tsa_model.py:836: ValueWarning:\n",
      "\n",
      "No supported index is available. Prediction results will be given with an integer index beginning at `start`.\n",
      "\n",
      "/Library/Frameworks/Python.framework/Versions/3.12/lib/python3.12/site-packages/statsmodels/tsa/base/tsa_model.py:836: FutureWarning:\n",
      "\n",
      "No supported index is available. In the next version, calling this method in a model without a supported index will result in an exception.\n",
      "\n"
     ]
    }
   ],
   "source": [
    "domestic_forecast = sarima_domestic_fit.forecast(steps=4)\n",
    "print(\"\\nDomestic Travel Forecast (Next 4 quarters):\")\n",
    "print(domestic_forecast)"
   ]
  },
  {
   "cell_type": "code",
   "execution_count": 67,
   "metadata": {},
   "outputs": [
    {
     "data": {
      "image/png": "[encoded data removed]",
      "text/plain": [
       "<Figure size 1200x600 with 1 Axes>"
      ]
     },
     "metadata": {},
     "output_type": "display_data"
    }
   ],
   "source": [
    "plt.figure(figsize=(12, 6))\n",
    "domestic_trips.plot(label='Actual')\n",
    "domestic_forecast.plot(label='Forecast', style='r--')\n",
    "plt.title('Domestic Travel Forecast')\n",
    "plt.legend()\n",
    "plt.tight_layout()\n",
    "plt.show()"
   ]
  },
  {
   "cell_type": "code",
   "execution_count": 68,
   "metadata": {},
   "outputs": [],
   "source": [
    "# Random Forest for Stay Duration Prediction\n",
    "stay_data = final_df[\n",
    "    final_df['Statistic Label'].str.contains('Average Length')\n",
    "].copy()\n",
    "\n"
   ]
  },
  {
   "cell_type": "code",
   "execution_count": 69,
   "metadata": {},
   "outputs": [
    {
     "data": {
      "text/html": [
       "<div>\n",
       "<style scoped>\n",
       "    .dataframe tbody tr th:only-of-type {\n",
       "        vertical-align: middle;\n",
       "    }\n",
       "\n",
       "    .dataframe tbody tr th {\n",
       "        vertical-align: top;\n",
       "    }\n",
       "\n",
       "    .dataframe thead th {\n",
       "        text-align: right;\n",
       "    }\n",
       "</style>\n",
       "<table border=\"1\" class=\"dataframe\">\n",
       "  <thead>\n",
       "    <tr style=\"text-align: right;\">\n",
       "      <th></th>\n",
       "      <th>Statistic Label</th>\n",
       "      <th>Quarter</th>\n",
       "      <th>Domestic</th>\n",
       "      <th>Reason for Journey</th>\n",
       "      <th>UNIT</th>\n",
       "      <th>VALUE</th>\n",
       "      <th>Date</th>\n",
       "      <th>Year</th>\n",
       "      <th>Season</th>\n",
       "      <th>Spend_Per_Trip</th>\n",
       "      <th>Growth_Rate</th>\n",
       "    </tr>\n",
       "  </thead>\n",
       "  <tbody>\n",
       "    <tr>\n",
       "      <th>1800</th>\n",
       "      <td>Average Length of Stay by Irish Residents</td>\n",
       "      <td>1</td>\n",
       "      <td>Domestic</td>\n",
       "      <td>All reasons for journey</td>\n",
       "      <td>Nights per Trip</td>\n",
       "      <td>3.1</td>\n",
       "      <td>2000-01-01</td>\n",
       "      <td>2000</td>\n",
       "      <td>Winter</td>\n",
       "      <td>0.1</td>\n",
       "      <td>-99.672304</td>\n",
       "    </tr>\n",
       "    <tr>\n",
       "      <th>1801</th>\n",
       "      <td>Average Length of Stay by Irish Residents</td>\n",
       "      <td>1</td>\n",
       "      <td>Domestic</td>\n",
       "      <td>Holiday</td>\n",
       "      <td>Nights per Trip</td>\n",
       "      <td>3.1</td>\n",
       "      <td>2000-01-01</td>\n",
       "      <td>2000</td>\n",
       "      <td>Winter</td>\n",
       "      <td>0.1</td>\n",
       "      <td>0.000000</td>\n",
       "    </tr>\n",
       "    <tr>\n",
       "      <th>1802</th>\n",
       "      <td>Average Length of Stay by Irish Residents</td>\n",
       "      <td>1</td>\n",
       "      <td>Domestic</td>\n",
       "      <td>Business</td>\n",
       "      <td>Nights per Trip</td>\n",
       "      <td>3.2</td>\n",
       "      <td>2000-01-01</td>\n",
       "      <td>2000</td>\n",
       "      <td>Winter</td>\n",
       "      <td>0.1</td>\n",
       "      <td>3.225806</td>\n",
       "    </tr>\n",
       "    <tr>\n",
       "      <th>1803</th>\n",
       "      <td>Average Length of Stay by Irish Residents</td>\n",
       "      <td>1</td>\n",
       "      <td>Domestic</td>\n",
       "      <td>Visiting friends/relatives</td>\n",
       "      <td>Nights per Trip</td>\n",
       "      <td>2.7</td>\n",
       "      <td>2000-01-01</td>\n",
       "      <td>2000</td>\n",
       "      <td>Winter</td>\n",
       "      <td>0.1</td>\n",
       "      <td>-15.625000</td>\n",
       "    </tr>\n",
       "    <tr>\n",
       "      <th>1804</th>\n",
       "      <td>Average Length of Stay by Irish Residents</td>\n",
       "      <td>1</td>\n",
       "      <td>Domestic</td>\n",
       "      <td>Other reasons</td>\n",
       "      <td>Nights per Trip</td>\n",
       "      <td>3.9</td>\n",
       "      <td>2000-01-01</td>\n",
       "      <td>2000</td>\n",
       "      <td>Winter</td>\n",
       "      <td>0.1</td>\n",
       "      <td>44.444444</td>\n",
       "    </tr>\n",
       "  </tbody>\n",
       "</table>\n",
       "</div>"
      ],
      "text/plain": [
       "                                Statistic Label  Quarter  Domestic  \\\n",
       "1800  Average Length of Stay by Irish Residents        1  Domestic   \n",
       "1801  Average Length of Stay by Irish Residents        1  Domestic   \n",
       "1802  Average Length of Stay by Irish Residents        1  Domestic   \n",
       "1803  Average Length of Stay by Irish Residents        1  Domestic   \n",
       "1804  Average Length of Stay by Irish Residents        1  Domestic   \n",
       "\n",
       "              Reason for Journey             UNIT  VALUE       Date  Year  \\\n",
       "1800     All reasons for journey  Nights per Trip    3.1 2000-01-01  2000   \n",
       "1801                     Holiday  Nights per Trip    3.1 2000-01-01  2000   \n",
       "1802                    Business  Nights per Trip    3.2 2000-01-01  2000   \n",
       "1803  Visiting friends/relatives  Nights per Trip    2.7 2000-01-01  2000   \n",
       "1804               Other reasons  Nights per Trip    3.9 2000-01-01  2000   \n",
       "\n",
       "      Season  Spend_Per_Trip  Growth_Rate  \n",
       "1800  Winter             0.1   -99.672304  \n",
       "1801  Winter             0.1     0.000000  \n",
       "1802  Winter             0.1     3.225806  \n",
       "1803  Winter             0.1   -15.625000  \n",
       "1804  Winter             0.1    44.444444  "
      ]
     },
     "execution_count": 69,
     "metadata": {},
     "output_type": "execute_result"
    }
   ],
   "source": [
    "stay_data.head()"
   ]
  },
  {
   "cell_type": "code",
   "execution_count": 70,
   "metadata": {},
   "outputs": [],
   "source": [
    "scaler = StandardScaler()\n",
    "stay_data['VALUE_standardized'] = scaler.fit_transform(stay_data[['VALUE']].fillna(0))"
   ]
  },
  {
   "cell_type": "code",
   "execution_count": 71,
   "metadata": {},
   "outputs": [],
   "source": [
    "X_stay = stay_data[['Year', 'Quarter', 'VALUE_standardized']]\n",
    "y_stay = stay_data['VALUE']\n"
   ]
  },
  {
   "cell_type": "code",
   "execution_count": 72,
   "metadata": {},
   "outputs": [],
   "source": [
    "X_train_stay, X_test_stay, y_train_stay, y_test_stay = train_test_split(\n",
    "    X_stay, y_stay, test_size=0.2, random_state=42\n",
    ")\n"
   ]
  },
  {
   "cell_type": "code",
   "execution_count": 73,
   "metadata": {},
   "outputs": [
    {
     "name": "stdout",
     "output_type": "stream",
     "text": [
      "\n",
      "Training Random Forest for stay duration prediction...\n"
     ]
    }
   ],
   "source": [
    "print(\"\\nTraining Random Forest for stay duration prediction...\")\n",
    "rf_model = RandomForestRegressor(\n",
    "    n_estimators=100,\n",
    "    max_depth=10,\n",
    "    random_state=42\n",
    ")"
   ]
  },
  {
   "cell_type": "code",
   "execution_count": 74,
   "metadata": {},
   "outputs": [],
   "source": [
    "rf_model.fit(X_train_stay, y_train_stay)\n",
    "rf_predictions = rf_model.predict(X_test_stay)"
   ]
  },
  {
   "cell_type": "code",
   "execution_count": 75,
   "metadata": {},
   "outputs": [
    {
     "name": "stdout",
     "output_type": "stream",
     "text": [
      "\n",
      "Stay Duration Model Performance:\n",
      "R2 Score: 1.000\n",
      "RMSE: 0.176\n",
      "MAE: 0.022\n"
     ]
    }
   ],
   "source": [
    "print(\"\\nStay Duration Model Performance:\")\n",
    "print(f\"R2 Score: {r2_score(y_test_stay, rf_predictions):.3f}\")\n",
    "print(f\"RMSE: {np.sqrt(mean_squared_error(y_test_stay, rf_predictions)):.3f}\")\n",
    "print(f\"MAE: {mean_absolute_error(y_test_stay, rf_predictions):.3f}\")"
   ]
  },
  {
   "cell_type": "code",
   "execution_count": 76,
   "metadata": {},
   "outputs": [
    {
     "data": {
      "text/plain": [
       "Text(0, 0.5, 'Predicted Values')"
      ]
     },
     "execution_count": 76,
     "metadata": {},
     "output_type": "execute_result"
    },
    {
     "data": {
      "image/png": "[encoded data removed]",
      "text/plain": [
       "<Figure size 1500x500 with 1 Axes>"
      ]
     },
     "metadata": {},
     "output_type": "display_data"
    }
   ],
   "source": [
    "plt.figure(figsize=(15, 5))\n",
    "plt.subplot(131)\n",
    "plt.scatter(y_test_exp, xgb_predictions, alpha=0.5)\n",
    "plt.plot([y_test_exp.min(), y_test_exp.max()], [y_test_exp.min(), y_test_exp.max()], 'r--')\n",
    "plt.title('Expenditure: Actual vs Predicted')\n",
    "plt.xlabel('Actual Values')\n",
    "plt.ylabel('Predicted Values')"
   ]
  },
  {
   "cell_type": "code",
   "execution_count": 96,
   "metadata": {},
   "outputs": [
    {
     "data": {
      "text/plain": [
       "Text(0, 0.5, 'Predicted Values')"
      ]
     },
     "execution_count": 77,
     "metadata": {},
     "output_type": "execute_result"
    },
    {
     "data": {
      "image/png": "[encoded data removed]",
      "text/plain": [
       "<Figure size 640x480 with 1 Axes>"
      ]
     },
     "metadata": {},
     "output_type": "display_data"
    }
   ],
   "source": [
    "# Stay duration predictions\n",
    "plt.subplot(132)\n",
    "plt.scatter(y_test_stay, rf_predictions, alpha=0.5)\n",
    "plt.plot([y_test_stay.min(), y_test_stay.max()], [y_test_stay.min(), y_test_stay.max()], 'r--')\n",
    "plt.title('Stay Duration: Actual vs Predicted')\n",
    "plt.xlabel('Actual Values')\n",
    "plt.ylabel('Predicted Values')"
   ]
  },
  {
   "cell_type": "code",
   "execution_count": 78,
   "metadata": {},
   "outputs": [
    {
     "data": {
      "image/png": "[encoded data removed]",
      "text/plain": [
       "<Figure size 640x480 with 1 Axes>"
      ]
     },
     "metadata": {},
     "output_type": "display_data"
    }
   ],
   "source": [
    "# Time series forecast\n",
    "plt.subplot(133)\n",
    "plt.plot(domestic_trips.index[-8:], domestic_trips[-8:], label='Actual')\n",
    "plt.plot(domestic_forecast.index, domestic_forecast.values, 'r--', label='Forecast')\n",
    "plt.title('Time Series Forecast')\n",
    "plt.xticks(rotation=45)\n",
    "plt.legend()\n",
    "\n",
    "plt.tight_layout()\n",
    "plt.show()"
   ]
  },
  {
   "cell_type": "code",
   "execution_count": null,
   "metadata": {},
   "outputs": [],
   "source": []
  }
 ],
 "metadata": {
  "kernelspec": {
   "display_name": "Python 3 (ipykernel)",
   "language": "python",
   "name": "python3"
  },
  "language_info": {
   "codemirror_mode": {
    "name": "ipython",
    "version": 3
   },
   "file_extension": ".py",
   "mimetype": "text/x-python",
   "name": "python",
   "nbconvert_exporter": "python",
   "pygments_lexer": "ipython3",
   "version": "3.12.4"
  }
 },
 "nbformat": 4,
 "nbformat_minor": 4
}
